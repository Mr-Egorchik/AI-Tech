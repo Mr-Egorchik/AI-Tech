{
  "cells": [
    {
      "cell_type": "markdown",
      "metadata": {
        "id": "h5obvO3F8TBX"
      },
      "source": [
        "# Лабораторная работа №3: Классификация $kNN$\n",
        "\n",
        "## Выполнил студент группы 6133-010402D Читоркин Егор Евгеньевич"
      ]
    },
    {
      "cell_type": "code",
      "execution_count": 1,
      "metadata": {
        "id": "3m8YIHzK8TBa"
      },
      "outputs": [],
      "source": [
        "import pandas as pd"
      ]
    },
    {
      "cell_type": "markdown",
      "metadata": {
        "id": "mKaStt-z8TBb"
      },
      "source": [
        "\n",
        "1. Считать в `pandas.DataFrame` любой источник данных: CSV, JSON, Excel-файл, HTML-таблицу и т.п."
      ]
    },
    {
      "cell_type": "code",
      "execution_count": 5,
      "metadata": {
        "id": "bhDt8SGr8TBc"
      },
      "outputs": [],
      "source": [
        "data = pd.read_csv('data.csv')"
      ]
    },
    {
      "cell_type": "markdown",
      "metadata": {
        "id": "A184ooLk8TBc"
      },
      "source": [
        "\n",
        "2. Бинарная классификация:\n",
        "   - Привести описание датасета."
      ]
    },
    {
      "cell_type": "markdown",
      "metadata": {
        "id": "LTe8hbP48TBc"
      },
      "source": [
        "|Название признака|Значение признака|Единица измерения|\n",
        "|-----------------|-----------------|-----------------|\n",
        "|Price|Цена|Рубли|\n",
        "|Apartment type|Тип|Первичное/вторичное|\n",
        "|Metro station|Ближайшая станция метро|-|\n",
        "|Minutes to metro|Время до ближайшей станции|Минуты|\n",
        "|Region|Область|-|\n",
        "|Number of rooms|Количество комнат|-|\n",
        "|Area|Площадь|кв. м|\n",
        "|Living area|Жилая площадь|кв. м|\n",
        "|Kitchen area|Площадь кухни|кв. м|\n",
        "|Floor|Этаж|-|\n",
        "|Number of floors|Количество этажей в доме|-|\n",
        "|Renovation|Внутренная отделка|-|"
      ]
    },
    {
      "cell_type": "markdown",
      "metadata": {
        "id": "9cNGyeYK8TBd"
      },
      "source": [
        "Будем определять Apartment type по оставльным признакам"
      ]
    },
    {
      "cell_type": "markdown",
      "metadata": {
        "id": "kZY1OrFb8TBd"
      },
      "source": [
        "   - Осуществить предобработку данных (избавиться от `null`, убрать некоторые признаки и т.п.) - \"подчистить данные\"."
      ]
    },
    {
      "cell_type": "code",
      "execution_count": 6,
      "metadata": {
        "colab": {
          "base_uri": "https://localhost:8080/"
        },
        "id": "SFDj9D4C8TBe",
        "outputId": "b4010543-7aa3-4717-a910-b8f2a1c85d3a"
      },
      "outputs": [
        {
          "output_type": "stream",
          "name": "stdout",
          "text": [
            "<class 'pandas.core.frame.DataFrame'>\n",
            "RangeIndex: 22676 entries, 0 to 22675\n",
            "Data columns (total 12 columns):\n",
            " #   Column            Non-Null Count  Dtype  \n",
            "---  ------            --------------  -----  \n",
            " 0   Price             22676 non-null  float64\n",
            " 1   Apartment type    22676 non-null  object \n",
            " 2   Metro station     22676 non-null  object \n",
            " 3   Minutes to metro  22676 non-null  float64\n",
            " 4   Region            22676 non-null  object \n",
            " 5   Number of rooms   22676 non-null  float64\n",
            " 6   Area              22676 non-null  float64\n",
            " 7   Living area       22676 non-null  float64\n",
            " 8   Kitchen area      22676 non-null  float64\n",
            " 9   Floor             22676 non-null  float64\n",
            " 10  Number of floors  22676 non-null  int64  \n",
            " 11  Renovation        22676 non-null  object \n",
            "dtypes: float64(7), int64(1), object(4)\n",
            "memory usage: 2.1+ MB\n"
          ]
        }
      ],
      "source": [
        "data.info()"
      ]
    },
    {
      "cell_type": "code",
      "execution_count": 7,
      "metadata": {
        "colab": {
          "base_uri": "https://localhost:8080/"
        },
        "id": "0lmE6kdO8TBf",
        "outputId": "16d5fedf-b176-41d3-d7d9-9f32f61eeeb9"
      },
      "outputs": [
        {
          "output_type": "stream",
          "name": "stdout",
          "text": [
            "Price: 9979 unique objects\n",
            "Apartment type: 2 unique objects\n",
            "Metro station: 547 unique objects\n",
            "Minutes to metro: 56 unique objects\n",
            "Region: 2 unique objects\n",
            "Number of rooms: 12 unique objects\n",
            "Area: 3017 unique objects\n",
            "Living area: 1302 unique objects\n",
            "Kitchen area: 481 unique objects\n",
            "Floor: 72 unique objects\n",
            "Number of floors: 83 unique objects\n",
            "Renovation: 4 unique objects\n"
          ]
        }
      ],
      "source": [
        "for col in data.columns:\n",
        "    print(f'{col}: {len(data[col].unique())} unique objects')"
      ]
    },
    {
      "cell_type": "code",
      "execution_count": 8,
      "metadata": {
        "colab": {
          "base_uri": "https://localhost:8080/"
        },
        "id": "RfTYfnsJ8TBf",
        "outputId": "47df36c6-6849-447c-9cbb-a7819161793d"
      },
      "outputs": [
        {
          "output_type": "execute_result",
          "data": {
            "text/plain": [
              "array(['Moscow region', 'Moscow'], dtype=object)"
            ]
          },
          "metadata": {},
          "execution_count": 8
        }
      ],
      "source": [
        "data['Region'].unique()"
      ]
    },
    {
      "cell_type": "markdown",
      "metadata": {
        "id": "u5ey_nzH8TBf"
      },
      "source": [
        "Null-ов нет, а о весе остальных признаков в целом рано говорить, так как даже Москва/Московская область в паре с ценой квартиры может дать много информации об Apartment type"
      ]
    },
    {
      "cell_type": "markdown",
      "metadata": {
        "id": "DWBKNqHE8TBg"
      },
      "source": [
        "   - Закодировать категориальные признаки при необходимости."
      ]
    },
    {
      "cell_type": "markdown",
      "metadata": {
        "id": "pfQ58nif8TBg"
      },
      "source": [
        "Категориальных признаков много, так что будем их кодировать. Если у признака будет много уникальных значений, то будем пользоваться label encoder, если их мало, то one-hot encoder, чтобы не сильно перегружать датасет"
      ]
    },
    {
      "cell_type": "code",
      "execution_count": 9,
      "metadata": {
        "colab": {
          "base_uri": "https://localhost:8080/"
        },
        "id": "axZg8upa8TBg",
        "outputId": "dbc3b70e-2d5c-4e8d-9cea-e3ccbccccba9"
      },
      "outputs": [
        {
          "output_type": "execute_result",
          "data": {
            "text/plain": [
              "['Apartment type', 'Metro station', 'Region', 'Renovation']"
            ]
          },
          "metadata": {},
          "execution_count": 9
        }
      ],
      "source": [
        "category = [var for var in data.columns if data[var].dtype == 'object']\n",
        "category"
      ]
    },
    {
      "cell_type": "code",
      "execution_count": 10,
      "metadata": {
        "colab": {
          "base_uri": "https://localhost:8080/"
        },
        "id": "n6UZz7Lh8TBg",
        "outputId": "f0cc9aa8-aa7d-46d0-a228-3b9929902241"
      },
      "outputs": [
        {
          "output_type": "stream",
          "name": "stdout",
          "text": [
            "Apartment type: 2 unique objects\n",
            "Metro station: 547 unique objects\n",
            "Region: 2 unique objects\n",
            "Renovation: 4 unique objects\n"
          ]
        }
      ],
      "source": [
        "for col in category:\n",
        "    print(f'{col}: {len(data[col].unique())} unique objects')"
      ]
    },
    {
      "cell_type": "markdown",
      "metadata": {
        "id": "KpYr6Erq8TBh"
      },
      "source": [
        "Region, Renovation закодируем One-Hot Encoder'ом\n",
        "\n",
        "Metro station - Label Encoder'ом (все-таки 547 новых столбцов - это too much)"
      ]
    },
    {
      "cell_type": "code",
      "execution_count": 11,
      "metadata": {
        "colab": {
          "base_uri": "https://localhost:8080/"
        },
        "id": "XJdYhlNf8TBi",
        "outputId": "331c9b4c-da8d-4cae-9afb-61aa549769fb"
      },
      "outputs": [
        {
          "output_type": "stream",
          "name": "stdout",
          "text": [
            "<class 'pandas.core.frame.DataFrame'>\n",
            "RangeIndex: 22676 entries, 0 to 22675\n",
            "Data columns (total 16 columns):\n",
            " #   Column                                Non-Null Count  Dtype  \n",
            "---  ------                                --------------  -----  \n",
            " 0   Price                                 22676 non-null  float64\n",
            " 1   Apartment type                        22676 non-null  object \n",
            " 2   Metro station                         22676 non-null  object \n",
            " 3   Minutes to metro                      22676 non-null  float64\n",
            " 4   Number of rooms                       22676 non-null  float64\n",
            " 5   Area                                  22676 non-null  float64\n",
            " 6   Living area                           22676 non-null  float64\n",
            " 7   Kitchen area                          22676 non-null  float64\n",
            " 8   Floor                                 22676 non-null  float64\n",
            " 9   Number of floors                      22676 non-null  int64  \n",
            " 10  Region_Moscow                         22676 non-null  uint8  \n",
            " 11  Region_Moscow region                  22676 non-null  uint8  \n",
            " 12  Renovation_Cosmetic                   22676 non-null  uint8  \n",
            " 13  Renovation_Designer                   22676 non-null  uint8  \n",
            " 14  Renovation_European-style renovation  22676 non-null  uint8  \n",
            " 15  Renovation_Without renovation         22676 non-null  uint8  \n",
            "dtypes: float64(7), int64(1), object(2), uint8(6)\n",
            "memory usage: 1.9+ MB\n"
          ]
        }
      ],
      "source": [
        "cols = ['Region', 'Renovation']\n",
        "data = pd.get_dummies(data=data, columns=cols, drop_first=False)\n",
        "data.info()"
      ]
    },
    {
      "cell_type": "code",
      "execution_count": 12,
      "metadata": {
        "id": "5C8QReVY8TBi"
      },
      "outputs": [],
      "source": [
        "keys, values = pd.factorize(data['Metro station'].unique())\n",
        "d = dict(zip(values, keys))"
      ]
    },
    {
      "cell_type": "code",
      "execution_count": 13,
      "metadata": {
        "colab": {
          "base_uri": "https://localhost:8080/"
        },
        "id": "7zGQKHPy8TBi",
        "outputId": "50e1e44d-b184-4467-f1ec-453bb3088513"
      },
      "outputs": [
        {
          "output_type": "execute_result",
          "data": {
            "text/plain": [
              "array(['Secondary', 'New building'], dtype=object)"
            ]
          },
          "metadata": {},
          "execution_count": 13
        }
      ],
      "source": [
        "data['Apartment type'].unique()"
      ]
    },
    {
      "cell_type": "code",
      "execution_count": 14,
      "metadata": {
        "id": "_M4xija28TBi"
      },
      "outputs": [],
      "source": [
        "data['Metro station'] = data['Metro station'].replace(d)\n",
        "data['Apartment type'] = data['Apartment type'].replace({'Secondary': 0, 'New building': 1})"
      ]
    },
    {
      "cell_type": "code",
      "execution_count": 15,
      "metadata": {
        "colab": {
          "base_uri": "https://localhost:8080/",
          "height": 261
        },
        "id": "kCfb6qDm8TBi",
        "outputId": "2f5a6021-12a9-4adf-9b09-bb724a7495b7"
      },
      "outputs": [
        {
          "output_type": "execute_result",
          "data": {
            "text/plain": [
              "        Price  Apartment type  Metro station  Minutes to metro  \\\n",
              "0   6300000.0               0              0               6.0   \n",
              "1   9000000.0               0              1               2.0   \n",
              "2  11090000.0               0              2              14.0   \n",
              "3   8300000.0               0              3               8.0   \n",
              "4   6450000.0               0              0               6.0   \n",
              "\n",
              "   Number of rooms  Area  Living area  Kitchen area  Floor  Number of floors  \\\n",
              "0              1.0  30.6         11.1           8.5   25.0                25   \n",
              "1              1.0  49.2         20.0          10.0    6.0                15   \n",
              "2              1.0  44.7         16.2          13.1   10.0                25   \n",
              "3              1.0  35.1         16.0          11.0   12.0                33   \n",
              "4              1.0  37.7         15.2           4.0    5.0                 5   \n",
              "\n",
              "   Region_Moscow  Region_Moscow region  Renovation_Cosmetic  \\\n",
              "0              0                     1                    1   \n",
              "1              0                     1                    0   \n",
              "2              0                     1                    1   \n",
              "3              0                     1                    0   \n",
              "4              0                     1                    0   \n",
              "\n",
              "   Renovation_Designer  Renovation_European-style renovation  \\\n",
              "0                    0                                     0   \n",
              "1                    0                                     1   \n",
              "2                    0                                     0   \n",
              "3                    0                                     1   \n",
              "4                    0                                     0   \n",
              "\n",
              "   Renovation_Without renovation  \n",
              "0                              0  \n",
              "1                              0  \n",
              "2                              0  \n",
              "3                              0  \n",
              "4                              1  "
            ],
            "text/html": [
              "\n",
              "  <div id=\"df-550ed4ea-055a-496f-98ca-6439dd9bba40\" class=\"colab-df-container\">\n",
              "    <div>\n",
              "<style scoped>\n",
              "    .dataframe tbody tr th:only-of-type {\n",
              "        vertical-align: middle;\n",
              "    }\n",
              "\n",
              "    .dataframe tbody tr th {\n",
              "        vertical-align: top;\n",
              "    }\n",
              "\n",
              "    .dataframe thead th {\n",
              "        text-align: right;\n",
              "    }\n",
              "</style>\n",
              "<table border=\"1\" class=\"dataframe\">\n",
              "  <thead>\n",
              "    <tr style=\"text-align: right;\">\n",
              "      <th></th>\n",
              "      <th>Price</th>\n",
              "      <th>Apartment type</th>\n",
              "      <th>Metro station</th>\n",
              "      <th>Minutes to metro</th>\n",
              "      <th>Number of rooms</th>\n",
              "      <th>Area</th>\n",
              "      <th>Living area</th>\n",
              "      <th>Kitchen area</th>\n",
              "      <th>Floor</th>\n",
              "      <th>Number of floors</th>\n",
              "      <th>Region_Moscow</th>\n",
              "      <th>Region_Moscow region</th>\n",
              "      <th>Renovation_Cosmetic</th>\n",
              "      <th>Renovation_Designer</th>\n",
              "      <th>Renovation_European-style renovation</th>\n",
              "      <th>Renovation_Without renovation</th>\n",
              "    </tr>\n",
              "  </thead>\n",
              "  <tbody>\n",
              "    <tr>\n",
              "      <th>0</th>\n",
              "      <td>6300000.0</td>\n",
              "      <td>0</td>\n",
              "      <td>0</td>\n",
              "      <td>6.0</td>\n",
              "      <td>1.0</td>\n",
              "      <td>30.6</td>\n",
              "      <td>11.1</td>\n",
              "      <td>8.5</td>\n",
              "      <td>25.0</td>\n",
              "      <td>25</td>\n",
              "      <td>0</td>\n",
              "      <td>1</td>\n",
              "      <td>1</td>\n",
              "      <td>0</td>\n",
              "      <td>0</td>\n",
              "      <td>0</td>\n",
              "    </tr>\n",
              "    <tr>\n",
              "      <th>1</th>\n",
              "      <td>9000000.0</td>\n",
              "      <td>0</td>\n",
              "      <td>1</td>\n",
              "      <td>2.0</td>\n",
              "      <td>1.0</td>\n",
              "      <td>49.2</td>\n",
              "      <td>20.0</td>\n",
              "      <td>10.0</td>\n",
              "      <td>6.0</td>\n",
              "      <td>15</td>\n",
              "      <td>0</td>\n",
              "      <td>1</td>\n",
              "      <td>0</td>\n",
              "      <td>0</td>\n",
              "      <td>1</td>\n",
              "      <td>0</td>\n",
              "    </tr>\n",
              "    <tr>\n",
              "      <th>2</th>\n",
              "      <td>11090000.0</td>\n",
              "      <td>0</td>\n",
              "      <td>2</td>\n",
              "      <td>14.0</td>\n",
              "      <td>1.0</td>\n",
              "      <td>44.7</td>\n",
              "      <td>16.2</td>\n",
              "      <td>13.1</td>\n",
              "      <td>10.0</td>\n",
              "      <td>25</td>\n",
              "      <td>0</td>\n",
              "      <td>1</td>\n",
              "      <td>1</td>\n",
              "      <td>0</td>\n",
              "      <td>0</td>\n",
              "      <td>0</td>\n",
              "    </tr>\n",
              "    <tr>\n",
              "      <th>3</th>\n",
              "      <td>8300000.0</td>\n",
              "      <td>0</td>\n",
              "      <td>3</td>\n",
              "      <td>8.0</td>\n",
              "      <td>1.0</td>\n",
              "      <td>35.1</td>\n",
              "      <td>16.0</td>\n",
              "      <td>11.0</td>\n",
              "      <td>12.0</td>\n",
              "      <td>33</td>\n",
              "      <td>0</td>\n",
              "      <td>1</td>\n",
              "      <td>0</td>\n",
              "      <td>0</td>\n",
              "      <td>1</td>\n",
              "      <td>0</td>\n",
              "    </tr>\n",
              "    <tr>\n",
              "      <th>4</th>\n",
              "      <td>6450000.0</td>\n",
              "      <td>0</td>\n",
              "      <td>0</td>\n",
              "      <td>6.0</td>\n",
              "      <td>1.0</td>\n",
              "      <td>37.7</td>\n",
              "      <td>15.2</td>\n",
              "      <td>4.0</td>\n",
              "      <td>5.0</td>\n",
              "      <td>5</td>\n",
              "      <td>0</td>\n",
              "      <td>1</td>\n",
              "      <td>0</td>\n",
              "      <td>0</td>\n",
              "      <td>0</td>\n",
              "      <td>1</td>\n",
              "    </tr>\n",
              "  </tbody>\n",
              "</table>\n",
              "</div>\n",
              "    <div class=\"colab-df-buttons\">\n",
              "\n",
              "  <div class=\"colab-df-container\">\n",
              "    <button class=\"colab-df-convert\" onclick=\"convertToInteractive('df-550ed4ea-055a-496f-98ca-6439dd9bba40')\"\n",
              "            title=\"Convert this dataframe to an interactive table.\"\n",
              "            style=\"display:none;\">\n",
              "\n",
              "  <svg xmlns=\"http://www.w3.org/2000/svg\" height=\"24px\" viewBox=\"0 -960 960 960\">\n",
              "    <path d=\"M120-120v-720h720v720H120Zm60-500h600v-160H180v160Zm220 220h160v-160H400v160Zm0 220h160v-160H400v160ZM180-400h160v-160H180v160Zm440 0h160v-160H620v160ZM180-180h160v-160H180v160Zm440 0h160v-160H620v160Z\"/>\n",
              "  </svg>\n",
              "    </button>\n",
              "\n",
              "  <style>\n",
              "    .colab-df-container {\n",
              "      display:flex;\n",
              "      gap: 12px;\n",
              "    }\n",
              "\n",
              "    .colab-df-convert {\n",
              "      background-color: #E8F0FE;\n",
              "      border: none;\n",
              "      border-radius: 50%;\n",
              "      cursor: pointer;\n",
              "      display: none;\n",
              "      fill: #1967D2;\n",
              "      height: 32px;\n",
              "      padding: 0 0 0 0;\n",
              "      width: 32px;\n",
              "    }\n",
              "\n",
              "    .colab-df-convert:hover {\n",
              "      background-color: #E2EBFA;\n",
              "      box-shadow: 0px 1px 2px rgba(60, 64, 67, 0.3), 0px 1px 3px 1px rgba(60, 64, 67, 0.15);\n",
              "      fill: #174EA6;\n",
              "    }\n",
              "\n",
              "    .colab-df-buttons div {\n",
              "      margin-bottom: 4px;\n",
              "    }\n",
              "\n",
              "    [theme=dark] .colab-df-convert {\n",
              "      background-color: #3B4455;\n",
              "      fill: #D2E3FC;\n",
              "    }\n",
              "\n",
              "    [theme=dark] .colab-df-convert:hover {\n",
              "      background-color: #434B5C;\n",
              "      box-shadow: 0px 1px 3px 1px rgba(0, 0, 0, 0.15);\n",
              "      filter: drop-shadow(0px 1px 2px rgba(0, 0, 0, 0.3));\n",
              "      fill: #FFFFFF;\n",
              "    }\n",
              "  </style>\n",
              "\n",
              "    <script>\n",
              "      const buttonEl =\n",
              "        document.querySelector('#df-550ed4ea-055a-496f-98ca-6439dd9bba40 button.colab-df-convert');\n",
              "      buttonEl.style.display =\n",
              "        google.colab.kernel.accessAllowed ? 'block' : 'none';\n",
              "\n",
              "      async function convertToInteractive(key) {\n",
              "        const element = document.querySelector('#df-550ed4ea-055a-496f-98ca-6439dd9bba40');\n",
              "        const dataTable =\n",
              "          await google.colab.kernel.invokeFunction('convertToInteractive',\n",
              "                                                    [key], {});\n",
              "        if (!dataTable) return;\n",
              "\n",
              "        const docLinkHtml = 'Like what you see? Visit the ' +\n",
              "          '<a target=\"_blank\" href=https://colab.research.google.com/notebooks/data_table.ipynb>data table notebook</a>'\n",
              "          + ' to learn more about interactive tables.';\n",
              "        element.innerHTML = '';\n",
              "        dataTable['output_type'] = 'display_data';\n",
              "        await google.colab.output.renderOutput(dataTable, element);\n",
              "        const docLink = document.createElement('div');\n",
              "        docLink.innerHTML = docLinkHtml;\n",
              "        element.appendChild(docLink);\n",
              "      }\n",
              "    </script>\n",
              "  </div>\n",
              "\n",
              "\n",
              "<div id=\"df-9cdab599-a003-4068-804e-2bfda41b6887\">\n",
              "  <button class=\"colab-df-quickchart\" onclick=\"quickchart('df-9cdab599-a003-4068-804e-2bfda41b6887')\"\n",
              "            title=\"Suggest charts\"\n",
              "            style=\"display:none;\">\n",
              "\n",
              "<svg xmlns=\"http://www.w3.org/2000/svg\" height=\"24px\"viewBox=\"0 0 24 24\"\n",
              "     width=\"24px\">\n",
              "    <g>\n",
              "        <path d=\"M19 3H5c-1.1 0-2 .9-2 2v14c0 1.1.9 2 2 2h14c1.1 0 2-.9 2-2V5c0-1.1-.9-2-2-2zM9 17H7v-7h2v7zm4 0h-2V7h2v10zm4 0h-2v-4h2v4z\"/>\n",
              "    </g>\n",
              "</svg>\n",
              "  </button>\n",
              "\n",
              "<style>\n",
              "  .colab-df-quickchart {\n",
              "      --bg-color: #E8F0FE;\n",
              "      --fill-color: #1967D2;\n",
              "      --hover-bg-color: #E2EBFA;\n",
              "      --hover-fill-color: #174EA6;\n",
              "      --disabled-fill-color: #AAA;\n",
              "      --disabled-bg-color: #DDD;\n",
              "  }\n",
              "\n",
              "  [theme=dark] .colab-df-quickchart {\n",
              "      --bg-color: #3B4455;\n",
              "      --fill-color: #D2E3FC;\n",
              "      --hover-bg-color: #434B5C;\n",
              "      --hover-fill-color: #FFFFFF;\n",
              "      --disabled-bg-color: #3B4455;\n",
              "      --disabled-fill-color: #666;\n",
              "  }\n",
              "\n",
              "  .colab-df-quickchart {\n",
              "    background-color: var(--bg-color);\n",
              "    border: none;\n",
              "    border-radius: 50%;\n",
              "    cursor: pointer;\n",
              "    display: none;\n",
              "    fill: var(--fill-color);\n",
              "    height: 32px;\n",
              "    padding: 0;\n",
              "    width: 32px;\n",
              "  }\n",
              "\n",
              "  .colab-df-quickchart:hover {\n",
              "    background-color: var(--hover-bg-color);\n",
              "    box-shadow: 0 1px 2px rgba(60, 64, 67, 0.3), 0 1px 3px 1px rgba(60, 64, 67, 0.15);\n",
              "    fill: var(--button-hover-fill-color);\n",
              "  }\n",
              "\n",
              "  .colab-df-quickchart-complete:disabled,\n",
              "  .colab-df-quickchart-complete:disabled:hover {\n",
              "    background-color: var(--disabled-bg-color);\n",
              "    fill: var(--disabled-fill-color);\n",
              "    box-shadow: none;\n",
              "  }\n",
              "\n",
              "  .colab-df-spinner {\n",
              "    border: 2px solid var(--fill-color);\n",
              "    border-color: transparent;\n",
              "    border-bottom-color: var(--fill-color);\n",
              "    animation:\n",
              "      spin 1s steps(1) infinite;\n",
              "  }\n",
              "\n",
              "  @keyframes spin {\n",
              "    0% {\n",
              "      border-color: transparent;\n",
              "      border-bottom-color: var(--fill-color);\n",
              "      border-left-color: var(--fill-color);\n",
              "    }\n",
              "    20% {\n",
              "      border-color: transparent;\n",
              "      border-left-color: var(--fill-color);\n",
              "      border-top-color: var(--fill-color);\n",
              "    }\n",
              "    30% {\n",
              "      border-color: transparent;\n",
              "      border-left-color: var(--fill-color);\n",
              "      border-top-color: var(--fill-color);\n",
              "      border-right-color: var(--fill-color);\n",
              "    }\n",
              "    40% {\n",
              "      border-color: transparent;\n",
              "      border-right-color: var(--fill-color);\n",
              "      border-top-color: var(--fill-color);\n",
              "    }\n",
              "    60% {\n",
              "      border-color: transparent;\n",
              "      border-right-color: var(--fill-color);\n",
              "    }\n",
              "    80% {\n",
              "      border-color: transparent;\n",
              "      border-right-color: var(--fill-color);\n",
              "      border-bottom-color: var(--fill-color);\n",
              "    }\n",
              "    90% {\n",
              "      border-color: transparent;\n",
              "      border-bottom-color: var(--fill-color);\n",
              "    }\n",
              "  }\n",
              "</style>\n",
              "\n",
              "  <script>\n",
              "    async function quickchart(key) {\n",
              "      const quickchartButtonEl =\n",
              "        document.querySelector('#' + key + ' button');\n",
              "      quickchartButtonEl.disabled = true;  // To prevent multiple clicks.\n",
              "      quickchartButtonEl.classList.add('colab-df-spinner');\n",
              "      try {\n",
              "        const charts = await google.colab.kernel.invokeFunction(\n",
              "            'suggestCharts', [key], {});\n",
              "      } catch (error) {\n",
              "        console.error('Error during call to suggestCharts:', error);\n",
              "      }\n",
              "      quickchartButtonEl.classList.remove('colab-df-spinner');\n",
              "      quickchartButtonEl.classList.add('colab-df-quickchart-complete');\n",
              "    }\n",
              "    (() => {\n",
              "      let quickchartButtonEl =\n",
              "        document.querySelector('#df-9cdab599-a003-4068-804e-2bfda41b6887 button');\n",
              "      quickchartButtonEl.style.display =\n",
              "        google.colab.kernel.accessAllowed ? 'block' : 'none';\n",
              "    })();\n",
              "  </script>\n",
              "</div>\n",
              "    </div>\n",
              "  </div>\n"
            ],
            "application/vnd.google.colaboratory.intrinsic+json": {
              "type": "dataframe",
              "variable_name": "data",
              "summary": "{\n  \"name\": \"data\",\n  \"rows\": 22676,\n  \"fields\": [\n    {\n      \"column\": \"Price\",\n      \"properties\": {\n        \"dtype\": \"number\",\n        \"std\": 82825614.1756103,\n        \"min\": 1150000.0,\n        \"max\": 2455020000.0,\n        \"num_unique_values\": 9979,\n        \"samples\": [\n          10135683.0,\n          2856844.0,\n          97190760.0\n        ],\n        \"semantic_type\": \"\",\n        \"description\": \"\"\n      }\n    },\n    {\n      \"column\": \"Apartment type\",\n      \"properties\": {\n        \"dtype\": \"number\",\n        \"std\": 0,\n        \"min\": 0,\n        \"max\": 1,\n        \"num_unique_values\": 2,\n        \"samples\": [\n          1,\n          0\n        ],\n        \"semantic_type\": \"\",\n        \"description\": \"\"\n      }\n    },\n    {\n      \"column\": \"Metro station\",\n      \"properties\": {\n        \"dtype\": \"number\",\n        \"std\": 143,\n        \"min\": 0,\n        \"max\": 546,\n        \"num_unique_values\": 547,\n        \"samples\": [\n          176,\n          77\n        ],\n        \"semantic_type\": \"\",\n        \"description\": \"\"\n      }\n    },\n    {\n      \"column\": \"Minutes to metro\",\n      \"properties\": {\n        \"dtype\": \"number\",\n        \"std\": 6.204456965622073,\n        \"min\": 0.0,\n        \"max\": 60.0,\n        \"num_unique_values\": 56,\n        \"samples\": [\n          6.0,\n          27.0\n        ],\n        \"semantic_type\": \"\",\n        \"description\": \"\"\n      }\n    },\n    {\n      \"column\": \"Number of rooms\",\n      \"properties\": {\n        \"dtype\": \"number\",\n        \"std\": 1.5235862577058266,\n        \"min\": 0.0,\n        \"max\": 12.0,\n        \"num_unique_values\": 12,\n        \"samples\": [\n          12.0,\n          9.0\n        ],\n        \"semantic_type\": \"\",\n        \"description\": \"\"\n      }\n    },\n    {\n      \"column\": \"Area\",\n      \"properties\": {\n        \"dtype\": \"number\",\n        \"std\": 68.36860845335453,\n        \"min\": 6.0,\n        \"max\": 1117.0,\n        \"num_unique_values\": 3017,\n        \"samples\": [\n          126.2,\n          116.85\n        ],\n        \"semantic_type\": \"\",\n        \"description\": \"\"\n      }\n    },\n    {\n      \"column\": \"Living area\",\n      \"properties\": {\n        \"dtype\": \"number\",\n        \"std\": 38.12427814350796,\n        \"min\": 2.0,\n        \"max\": 566.8,\n        \"num_unique_values\": 1302,\n        \"samples\": [\n          28.5,\n          44.0\n        ],\n        \"semantic_type\": \"\",\n        \"description\": \"\"\n      }\n    },\n    {\n      \"column\": \"Kitchen area\",\n      \"properties\": {\n        \"dtype\": \"number\",\n        \"std\": 7.728074411063643,\n        \"min\": 1.0,\n        \"max\": 122.0,\n        \"num_unique_values\": 481,\n        \"samples\": [\n          23.0,\n          32.7\n        ],\n        \"semantic_type\": \"\",\n        \"description\": \"\"\n      }\n    },\n    {\n      \"column\": \"Floor\",\n      \"properties\": {\n        \"dtype\": \"number\",\n        \"std\": 7.549996177433723,\n        \"min\": 1.0,\n        \"max\": 92.0,\n        \"num_unique_values\": 72,\n        \"samples\": [\n          5.0,\n          43.0\n        ],\n        \"semantic_type\": \"\",\n        \"description\": \"\"\n      }\n    },\n    {\n      \"column\": \"Number of floors\",\n      \"properties\": {\n        \"dtype\": \"number\",\n        \"std\": 9,\n        \"min\": 1,\n        \"max\": 97,\n        \"num_unique_values\": 83,\n        \"samples\": [\n          27,\n          25\n        ],\n        \"semantic_type\": \"\",\n        \"description\": \"\"\n      }\n    },\n    {\n      \"column\": \"Region_Moscow\",\n      \"properties\": {\n        \"dtype\": \"uint8\",\n        \"num_unique_values\": 2,\n        \"samples\": [\n          1,\n          0\n        ],\n        \"semantic_type\": \"\",\n        \"description\": \"\"\n      }\n    },\n    {\n      \"column\": \"Region_Moscow region\",\n      \"properties\": {\n        \"dtype\": \"uint8\",\n        \"num_unique_values\": 2,\n        \"samples\": [\n          0,\n          1\n        ],\n        \"semantic_type\": \"\",\n        \"description\": \"\"\n      }\n    },\n    {\n      \"column\": \"Renovation_Cosmetic\",\n      \"properties\": {\n        \"dtype\": \"uint8\",\n        \"num_unique_values\": 2,\n        \"samples\": [\n          0,\n          1\n        ],\n        \"semantic_type\": \"\",\n        \"description\": \"\"\n      }\n    },\n    {\n      \"column\": \"Renovation_Designer\",\n      \"properties\": {\n        \"dtype\": \"uint8\",\n        \"num_unique_values\": 2,\n        \"samples\": [\n          1,\n          0\n        ],\n        \"semantic_type\": \"\",\n        \"description\": \"\"\n      }\n    },\n    {\n      \"column\": \"Renovation_European-style renovation\",\n      \"properties\": {\n        \"dtype\": \"uint8\",\n        \"num_unique_values\": 2,\n        \"samples\": [\n          1,\n          0\n        ],\n        \"semantic_type\": \"\",\n        \"description\": \"\"\n      }\n    },\n    {\n      \"column\": \"Renovation_Without renovation\",\n      \"properties\": {\n        \"dtype\": \"uint8\",\n        \"num_unique_values\": 2,\n        \"samples\": [\n          1,\n          0\n        ],\n        \"semantic_type\": \"\",\n        \"description\": \"\"\n      }\n    }\n  ]\n}"
            }
          },
          "metadata": {},
          "execution_count": 15
        }
      ],
      "source": [
        "data.head()"
      ]
    },
    {
      "cell_type": "code",
      "execution_count": 16,
      "metadata": {
        "colab": {
          "base_uri": "https://localhost:8080/"
        },
        "id": "z_Pi-7408TBi",
        "outputId": "46629a4b-9678-43d2-c946-7347f2bdfb44"
      },
      "outputs": [
        {
          "output_type": "stream",
          "name": "stdout",
          "text": [
            "<class 'pandas.core.frame.DataFrame'>\n",
            "RangeIndex: 22676 entries, 0 to 22675\n",
            "Data columns (total 16 columns):\n",
            " #   Column                                Non-Null Count  Dtype  \n",
            "---  ------                                --------------  -----  \n",
            " 0   Price                                 22676 non-null  float64\n",
            " 1   Apartment type                        22676 non-null  int64  \n",
            " 2   Metro station                         22676 non-null  int64  \n",
            " 3   Minutes to metro                      22676 non-null  float64\n",
            " 4   Number of rooms                       22676 non-null  float64\n",
            " 5   Area                                  22676 non-null  float64\n",
            " 6   Living area                           22676 non-null  float64\n",
            " 7   Kitchen area                          22676 non-null  float64\n",
            " 8   Floor                                 22676 non-null  float64\n",
            " 9   Number of floors                      22676 non-null  int64  \n",
            " 10  Region_Moscow                         22676 non-null  uint8  \n",
            " 11  Region_Moscow region                  22676 non-null  uint8  \n",
            " 12  Renovation_Cosmetic                   22676 non-null  uint8  \n",
            " 13  Renovation_Designer                   22676 non-null  uint8  \n",
            " 14  Renovation_European-style renovation  22676 non-null  uint8  \n",
            " 15  Renovation_Without renovation         22676 non-null  uint8  \n",
            "dtypes: float64(7), int64(3), uint8(6)\n",
            "memory usage: 1.9 MB\n"
          ]
        }
      ],
      "source": [
        "data.info()"
      ]
    },
    {
      "cell_type": "markdown",
      "metadata": {
        "id": "DF2IzaJP8TBj"
      },
      "source": [
        "   - Выбрать какое-нибудь значение гиперпараметра $k$ алгоритма $kNN$."
      ]
    },
    {
      "cell_type": "code",
      "execution_count": 17,
      "metadata": {
        "id": "Ec8wL7NC8TBk"
      },
      "outputs": [],
      "source": [
        "k = 3"
      ]
    },
    {
      "cell_type": "markdown",
      "metadata": {
        "id": "OjdfRUV68TBk"
      },
      "source": [
        "   - Разбить выборку на обучающую и тестовую.\n",
        "     > Разбиение использовать одно и то же для всех последующих манипуляций."
      ]
    },
    {
      "cell_type": "code",
      "execution_count": 18,
      "metadata": {
        "id": "RA15l4vs8TBk"
      },
      "outputs": [],
      "source": [
        "from sklearn.model_selection import train_test_split"
      ]
    },
    {
      "cell_type": "code",
      "execution_count": 19,
      "metadata": {
        "colab": {
          "base_uri": "https://localhost:8080/"
        },
        "id": "ZbS-LJb98TBk",
        "outputId": "0cbf7499-0a10-454b-b350-abf7cad3ea1f"
      },
      "outputs": [
        {
          "output_type": "stream",
          "name": "stdout",
          "text": [
            "(15873,) (6803,)\n"
          ]
        }
      ],
      "source": [
        "X = data.drop('Apartment type', axis=1)\n",
        "y = data['Apartment type']\n",
        "X_train, X_test, y_train, y_test = train_test_split(X, y, test_size = 0.3, random_state = 42)\n",
        "print(y_train.shape, y_test.shape)"
      ]
    },
    {
      "cell_type": "markdown",
      "metadata": {
        "id": "JX3eoBuJ8TBl"
      },
      "source": [
        "   - Осуществить бинарную классификацию."
      ]
    },
    {
      "cell_type": "code",
      "execution_count": 20,
      "metadata": {
        "id": "F7Y6gaU_8TBl"
      },
      "outputs": [],
      "source": [
        "from sklearn.neighbors import KNeighborsClassifier"
      ]
    },
    {
      "cell_type": "code",
      "execution_count": 21,
      "metadata": {
        "id": "lHhCRmk78TBl"
      },
      "outputs": [],
      "source": [
        "baseline_model = KNeighborsClassifier(n_neighbors=k, metric='euclidean')"
      ]
    },
    {
      "cell_type": "code",
      "execution_count": 22,
      "metadata": {
        "colab": {
          "base_uri": "https://localhost:8080/",
          "height": 74
        },
        "id": "2sMJT_-v8TBl",
        "outputId": "21d0b94a-4151-40a0-a89a-ef3c50d3a418"
      },
      "outputs": [
        {
          "output_type": "execute_result",
          "data": {
            "text/plain": [
              "KNeighborsClassifier(metric='euclidean', n_neighbors=3)"
            ],
            "text/html": [
              "<style>#sk-container-id-1 {color: black;background-color: white;}#sk-container-id-1 pre{padding: 0;}#sk-container-id-1 div.sk-toggleable {background-color: white;}#sk-container-id-1 label.sk-toggleable__label {cursor: pointer;display: block;width: 100%;margin-bottom: 0;padding: 0.3em;box-sizing: border-box;text-align: center;}#sk-container-id-1 label.sk-toggleable__label-arrow:before {content: \"▸\";float: left;margin-right: 0.25em;color: #696969;}#sk-container-id-1 label.sk-toggleable__label-arrow:hover:before {color: black;}#sk-container-id-1 div.sk-estimator:hover label.sk-toggleable__label-arrow:before {color: black;}#sk-container-id-1 div.sk-toggleable__content {max-height: 0;max-width: 0;overflow: hidden;text-align: left;background-color: #f0f8ff;}#sk-container-id-1 div.sk-toggleable__content pre {margin: 0.2em;color: black;border-radius: 0.25em;background-color: #f0f8ff;}#sk-container-id-1 input.sk-toggleable__control:checked~div.sk-toggleable__content {max-height: 200px;max-width: 100%;overflow: auto;}#sk-container-id-1 input.sk-toggleable__control:checked~label.sk-toggleable__label-arrow:before {content: \"▾\";}#sk-container-id-1 div.sk-estimator input.sk-toggleable__control:checked~label.sk-toggleable__label {background-color: #d4ebff;}#sk-container-id-1 div.sk-label input.sk-toggleable__control:checked~label.sk-toggleable__label {background-color: #d4ebff;}#sk-container-id-1 input.sk-hidden--visually {border: 0;clip: rect(1px 1px 1px 1px);clip: rect(1px, 1px, 1px, 1px);height: 1px;margin: -1px;overflow: hidden;padding: 0;position: absolute;width: 1px;}#sk-container-id-1 div.sk-estimator {font-family: monospace;background-color: #f0f8ff;border: 1px dotted black;border-radius: 0.25em;box-sizing: border-box;margin-bottom: 0.5em;}#sk-container-id-1 div.sk-estimator:hover {background-color: #d4ebff;}#sk-container-id-1 div.sk-parallel-item::after {content: \"\";width: 100%;border-bottom: 1px solid gray;flex-grow: 1;}#sk-container-id-1 div.sk-label:hover label.sk-toggleable__label {background-color: #d4ebff;}#sk-container-id-1 div.sk-serial::before {content: \"\";position: absolute;border-left: 1px solid gray;box-sizing: border-box;top: 0;bottom: 0;left: 50%;z-index: 0;}#sk-container-id-1 div.sk-serial {display: flex;flex-direction: column;align-items: center;background-color: white;padding-right: 0.2em;padding-left: 0.2em;position: relative;}#sk-container-id-1 div.sk-item {position: relative;z-index: 1;}#sk-container-id-1 div.sk-parallel {display: flex;align-items: stretch;justify-content: center;background-color: white;position: relative;}#sk-container-id-1 div.sk-item::before, #sk-container-id-1 div.sk-parallel-item::before {content: \"\";position: absolute;border-left: 1px solid gray;box-sizing: border-box;top: 0;bottom: 0;left: 50%;z-index: -1;}#sk-container-id-1 div.sk-parallel-item {display: flex;flex-direction: column;z-index: 1;position: relative;background-color: white;}#sk-container-id-1 div.sk-parallel-item:first-child::after {align-self: flex-end;width: 50%;}#sk-container-id-1 div.sk-parallel-item:last-child::after {align-self: flex-start;width: 50%;}#sk-container-id-1 div.sk-parallel-item:only-child::after {width: 0;}#sk-container-id-1 div.sk-dashed-wrapped {border: 1px dashed gray;margin: 0 0.4em 0.5em 0.4em;box-sizing: border-box;padding-bottom: 0.4em;background-color: white;}#sk-container-id-1 div.sk-label label {font-family: monospace;font-weight: bold;display: inline-block;line-height: 1.2em;}#sk-container-id-1 div.sk-label-container {text-align: center;}#sk-container-id-1 div.sk-container {/* jupyter's `normalize.less` sets `[hidden] { display: none; }` but bootstrap.min.css set `[hidden] { display: none !important; }` so we also need the `!important` here to be able to override the default hidden behavior on the sphinx rendered scikit-learn.org. See: https://github.com/scikit-learn/scikit-learn/issues/21755 */display: inline-block !important;position: relative;}#sk-container-id-1 div.sk-text-repr-fallback {display: none;}</style><div id=\"sk-container-id-1\" class=\"sk-top-container\"><div class=\"sk-text-repr-fallback\"><pre>KNeighborsClassifier(metric=&#x27;euclidean&#x27;, n_neighbors=3)</pre><b>In a Jupyter environment, please rerun this cell to show the HTML representation or trust the notebook. <br />On GitHub, the HTML representation is unable to render, please try loading this page with nbviewer.org.</b></div><div class=\"sk-container\" hidden><div class=\"sk-item\"><div class=\"sk-estimator sk-toggleable\"><input class=\"sk-toggleable__control sk-hidden--visually\" id=\"sk-estimator-id-1\" type=\"checkbox\" checked><label for=\"sk-estimator-id-1\" class=\"sk-toggleable__label sk-toggleable__label-arrow\">KNeighborsClassifier</label><div class=\"sk-toggleable__content\"><pre>KNeighborsClassifier(metric=&#x27;euclidean&#x27;, n_neighbors=3)</pre></div></div></div></div></div>"
            ]
          },
          "metadata": {},
          "execution_count": 22
        }
      ],
      "source": [
        "baseline_model.fit(X_train, y_train)"
      ]
    },
    {
      "cell_type": "code",
      "execution_count": 23,
      "metadata": {
        "id": "hIysqwLA8TBm"
      },
      "outputs": [],
      "source": [
        "preds = baseline_model.predict(X_test)"
      ]
    },
    {
      "cell_type": "markdown",
      "metadata": {
        "id": "sPmzRLro8TBm"
      },
      "source": [
        "   - Посчитать метрики: $accuracy$, $precision$, $recall$, $\\textit{f-measure}$, а также составить `classification_report`."
      ]
    },
    {
      "cell_type": "code",
      "execution_count": 24,
      "metadata": {
        "id": "rmLdFoF18TBm"
      },
      "outputs": [],
      "source": [
        "from sklearn.metrics import accuracy_score, precision_score, recall_score, f1_score, classification_report"
      ]
    },
    {
      "cell_type": "code",
      "execution_count": 25,
      "metadata": {
        "colab": {
          "base_uri": "https://localhost:8080/"
        },
        "id": "3o8M0v168TBm",
        "outputId": "31e967d7-256a-468a-b30c-178aa88a1cae"
      },
      "outputs": [
        {
          "output_type": "stream",
          "name": "stdout",
          "text": [
            "Accuracy:\t0.89519329707482\n",
            "Precision:\t0.8882374496152436\n",
            "Recall:\t0.8559322033898306\n",
            "F1-measure:\t0.8717856500629383\n",
            "              precision    recall  f1-score   support\n",
            "\n",
            "           0       0.90      0.92      0.91      3971\n",
            "           1       0.89      0.86      0.87      2832\n",
            "\n",
            "    accuracy                           0.90      6803\n",
            "   macro avg       0.89      0.89      0.89      6803\n",
            "weighted avg       0.90      0.90      0.89      6803\n",
            "\n"
          ]
        }
      ],
      "source": [
        "print(f'Accuracy:\\t{accuracy_score(y_test, preds)}')\n",
        "print(f'Precision:\\t{precision_score(y_test, preds)}')\n",
        "print(f'Recall:\\t{recall_score(y_test, preds)}')\n",
        "print(f'F1-measure:\\t{f1_score(y_test, preds)}')\n",
        "print(classification_report(y_test, preds))"
      ]
    },
    {
      "cell_type": "markdown",
      "metadata": {
        "id": "Nov0hUty8TBn"
      },
      "source": [
        "   - Нормализовать данные (`StandardScaler`или `MinMaxScaler`)."
      ]
    },
    {
      "cell_type": "code",
      "execution_count": 26,
      "metadata": {
        "id": "2HaeYOtH8TBn"
      },
      "outputs": [],
      "source": [
        "from sklearn.preprocessing import StandardScaler"
      ]
    },
    {
      "cell_type": "code",
      "execution_count": 27,
      "metadata": {
        "colab": {
          "base_uri": "https://localhost:8080/",
          "height": 261
        },
        "id": "JnLT0dNk8TBn",
        "outputId": "927bf199-ed99-40d7-adbe-91e55cfcfbf9"
      },
      "outputs": [
        {
          "output_type": "execute_result",
          "data": {
            "text/plain": [
              "      Price  Metro station  Minutes to metro  Number of rooms      Area  \\\n",
              "0 -0.303914      -0.315461          2.274447        -0.684669 -0.496830   \n",
              "1 -0.378772       0.460425          0.179132        -1.341030 -0.752801   \n",
              "2 -0.359014       0.110927          0.017954        -0.684669 -0.590296   \n",
              "3  2.703072      -1.776363         -0.304402         2.597134  5.090653   \n",
              "4 -0.292444      -0.154692         -0.143224        -0.684669 -0.492442   \n",
              "\n",
              "   Living area  Kitchen area     Floor  Number of floors  Region_Moscow  \\\n",
              "0    -0.511967     -0.335677  0.504585          0.045393       0.638209   \n",
              "1    -0.682466     -0.555659 -1.084854         -0.772679       0.638209   \n",
              "2    -0.745419     -0.038055  0.637039          0.352171      -1.566885   \n",
              "3     0.301181      3.727520  0.504585         -0.159125       0.638209   \n",
              "4    -0.504098     -0.542719  0.504585          0.045393       0.638209   \n",
              "\n",
              "   Region_Moscow region  Renovation_Cosmetic  Renovation_Designer  \\\n",
              "0             -0.638209            -1.137227            -0.392272   \n",
              "1             -0.638209            -1.137227            -0.392272   \n",
              "2              1.566885             0.879332            -0.392272   \n",
              "3             -0.638209            -1.137227             2.549250   \n",
              "4             -0.638209             0.879332            -0.392272   \n",
              "\n",
              "   Renovation_European-style renovation  Renovation_Without renovation  \n",
              "0                              2.277167                      -0.405198  \n",
              "1                             -0.439142                       2.467931  \n",
              "2                             -0.439142                      -0.405198  \n",
              "3                             -0.439142                      -0.405198  \n",
              "4                             -0.439142                      -0.405198  "
            ],
            "text/html": [
              "\n",
              "  <div id=\"df-c43b7753-4958-4038-9158-70dccc841828\" class=\"colab-df-container\">\n",
              "    <div>\n",
              "<style scoped>\n",
              "    .dataframe tbody tr th:only-of-type {\n",
              "        vertical-align: middle;\n",
              "    }\n",
              "\n",
              "    .dataframe tbody tr th {\n",
              "        vertical-align: top;\n",
              "    }\n",
              "\n",
              "    .dataframe thead th {\n",
              "        text-align: right;\n",
              "    }\n",
              "</style>\n",
              "<table border=\"1\" class=\"dataframe\">\n",
              "  <thead>\n",
              "    <tr style=\"text-align: right;\">\n",
              "      <th></th>\n",
              "      <th>Price</th>\n",
              "      <th>Metro station</th>\n",
              "      <th>Minutes to metro</th>\n",
              "      <th>Number of rooms</th>\n",
              "      <th>Area</th>\n",
              "      <th>Living area</th>\n",
              "      <th>Kitchen area</th>\n",
              "      <th>Floor</th>\n",
              "      <th>Number of floors</th>\n",
              "      <th>Region_Moscow</th>\n",
              "      <th>Region_Moscow region</th>\n",
              "      <th>Renovation_Cosmetic</th>\n",
              "      <th>Renovation_Designer</th>\n",
              "      <th>Renovation_European-style renovation</th>\n",
              "      <th>Renovation_Without renovation</th>\n",
              "    </tr>\n",
              "  </thead>\n",
              "  <tbody>\n",
              "    <tr>\n",
              "      <th>0</th>\n",
              "      <td>-0.303914</td>\n",
              "      <td>-0.315461</td>\n",
              "      <td>2.274447</td>\n",
              "      <td>-0.684669</td>\n",
              "      <td>-0.496830</td>\n",
              "      <td>-0.511967</td>\n",
              "      <td>-0.335677</td>\n",
              "      <td>0.504585</td>\n",
              "      <td>0.045393</td>\n",
              "      <td>0.638209</td>\n",
              "      <td>-0.638209</td>\n",
              "      <td>-1.137227</td>\n",
              "      <td>-0.392272</td>\n",
              "      <td>2.277167</td>\n",
              "      <td>-0.405198</td>\n",
              "    </tr>\n",
              "    <tr>\n",
              "      <th>1</th>\n",
              "      <td>-0.378772</td>\n",
              "      <td>0.460425</td>\n",
              "      <td>0.179132</td>\n",
              "      <td>-1.341030</td>\n",
              "      <td>-0.752801</td>\n",
              "      <td>-0.682466</td>\n",
              "      <td>-0.555659</td>\n",
              "      <td>-1.084854</td>\n",
              "      <td>-0.772679</td>\n",
              "      <td>0.638209</td>\n",
              "      <td>-0.638209</td>\n",
              "      <td>-1.137227</td>\n",
              "      <td>-0.392272</td>\n",
              "      <td>-0.439142</td>\n",
              "      <td>2.467931</td>\n",
              "    </tr>\n",
              "    <tr>\n",
              "      <th>2</th>\n",
              "      <td>-0.359014</td>\n",
              "      <td>0.110927</td>\n",
              "      <td>0.017954</td>\n",
              "      <td>-0.684669</td>\n",
              "      <td>-0.590296</td>\n",
              "      <td>-0.745419</td>\n",
              "      <td>-0.038055</td>\n",
              "      <td>0.637039</td>\n",
              "      <td>0.352171</td>\n",
              "      <td>-1.566885</td>\n",
              "      <td>1.566885</td>\n",
              "      <td>0.879332</td>\n",
              "      <td>-0.392272</td>\n",
              "      <td>-0.439142</td>\n",
              "      <td>-0.405198</td>\n",
              "    </tr>\n",
              "    <tr>\n",
              "      <th>3</th>\n",
              "      <td>2.703072</td>\n",
              "      <td>-1.776363</td>\n",
              "      <td>-0.304402</td>\n",
              "      <td>2.597134</td>\n",
              "      <td>5.090653</td>\n",
              "      <td>0.301181</td>\n",
              "      <td>3.727520</td>\n",
              "      <td>0.504585</td>\n",
              "      <td>-0.159125</td>\n",
              "      <td>0.638209</td>\n",
              "      <td>-0.638209</td>\n",
              "      <td>-1.137227</td>\n",
              "      <td>2.549250</td>\n",
              "      <td>-0.439142</td>\n",
              "      <td>-0.405198</td>\n",
              "    </tr>\n",
              "    <tr>\n",
              "      <th>4</th>\n",
              "      <td>-0.292444</td>\n",
              "      <td>-0.154692</td>\n",
              "      <td>-0.143224</td>\n",
              "      <td>-0.684669</td>\n",
              "      <td>-0.492442</td>\n",
              "      <td>-0.504098</td>\n",
              "      <td>-0.542719</td>\n",
              "      <td>0.504585</td>\n",
              "      <td>0.045393</td>\n",
              "      <td>0.638209</td>\n",
              "      <td>-0.638209</td>\n",
              "      <td>0.879332</td>\n",
              "      <td>-0.392272</td>\n",
              "      <td>-0.439142</td>\n",
              "      <td>-0.405198</td>\n",
              "    </tr>\n",
              "  </tbody>\n",
              "</table>\n",
              "</div>\n",
              "    <div class=\"colab-df-buttons\">\n",
              "\n",
              "  <div class=\"colab-df-container\">\n",
              "    <button class=\"colab-df-convert\" onclick=\"convertToInteractive('df-c43b7753-4958-4038-9158-70dccc841828')\"\n",
              "            title=\"Convert this dataframe to an interactive table.\"\n",
              "            style=\"display:none;\">\n",
              "\n",
              "  <svg xmlns=\"http://www.w3.org/2000/svg\" height=\"24px\" viewBox=\"0 -960 960 960\">\n",
              "    <path d=\"M120-120v-720h720v720H120Zm60-500h600v-160H180v160Zm220 220h160v-160H400v160Zm0 220h160v-160H400v160ZM180-400h160v-160H180v160Zm440 0h160v-160H620v160ZM180-180h160v-160H180v160Zm440 0h160v-160H620v160Z\"/>\n",
              "  </svg>\n",
              "    </button>\n",
              "\n",
              "  <style>\n",
              "    .colab-df-container {\n",
              "      display:flex;\n",
              "      gap: 12px;\n",
              "    }\n",
              "\n",
              "    .colab-df-convert {\n",
              "      background-color: #E8F0FE;\n",
              "      border: none;\n",
              "      border-radius: 50%;\n",
              "      cursor: pointer;\n",
              "      display: none;\n",
              "      fill: #1967D2;\n",
              "      height: 32px;\n",
              "      padding: 0 0 0 0;\n",
              "      width: 32px;\n",
              "    }\n",
              "\n",
              "    .colab-df-convert:hover {\n",
              "      background-color: #E2EBFA;\n",
              "      box-shadow: 0px 1px 2px rgba(60, 64, 67, 0.3), 0px 1px 3px 1px rgba(60, 64, 67, 0.15);\n",
              "      fill: #174EA6;\n",
              "    }\n",
              "\n",
              "    .colab-df-buttons div {\n",
              "      margin-bottom: 4px;\n",
              "    }\n",
              "\n",
              "    [theme=dark] .colab-df-convert {\n",
              "      background-color: #3B4455;\n",
              "      fill: #D2E3FC;\n",
              "    }\n",
              "\n",
              "    [theme=dark] .colab-df-convert:hover {\n",
              "      background-color: #434B5C;\n",
              "      box-shadow: 0px 1px 3px 1px rgba(0, 0, 0, 0.15);\n",
              "      filter: drop-shadow(0px 1px 2px rgba(0, 0, 0, 0.3));\n",
              "      fill: #FFFFFF;\n",
              "    }\n",
              "  </style>\n",
              "\n",
              "    <script>\n",
              "      const buttonEl =\n",
              "        document.querySelector('#df-c43b7753-4958-4038-9158-70dccc841828 button.colab-df-convert');\n",
              "      buttonEl.style.display =\n",
              "        google.colab.kernel.accessAllowed ? 'block' : 'none';\n",
              "\n",
              "      async function convertToInteractive(key) {\n",
              "        const element = document.querySelector('#df-c43b7753-4958-4038-9158-70dccc841828');\n",
              "        const dataTable =\n",
              "          await google.colab.kernel.invokeFunction('convertToInteractive',\n",
              "                                                    [key], {});\n",
              "        if (!dataTable) return;\n",
              "\n",
              "        const docLinkHtml = 'Like what you see? Visit the ' +\n",
              "          '<a target=\"_blank\" href=https://colab.research.google.com/notebooks/data_table.ipynb>data table notebook</a>'\n",
              "          + ' to learn more about interactive tables.';\n",
              "        element.innerHTML = '';\n",
              "        dataTable['output_type'] = 'display_data';\n",
              "        await google.colab.output.renderOutput(dataTable, element);\n",
              "        const docLink = document.createElement('div');\n",
              "        docLink.innerHTML = docLinkHtml;\n",
              "        element.appendChild(docLink);\n",
              "      }\n",
              "    </script>\n",
              "  </div>\n",
              "\n",
              "\n",
              "<div id=\"df-38ce2072-f33b-4b26-a4ae-ea391bcb642a\">\n",
              "  <button class=\"colab-df-quickchart\" onclick=\"quickchart('df-38ce2072-f33b-4b26-a4ae-ea391bcb642a')\"\n",
              "            title=\"Suggest charts\"\n",
              "            style=\"display:none;\">\n",
              "\n",
              "<svg xmlns=\"http://www.w3.org/2000/svg\" height=\"24px\"viewBox=\"0 0 24 24\"\n",
              "     width=\"24px\">\n",
              "    <g>\n",
              "        <path d=\"M19 3H5c-1.1 0-2 .9-2 2v14c0 1.1.9 2 2 2h14c1.1 0 2-.9 2-2V5c0-1.1-.9-2-2-2zM9 17H7v-7h2v7zm4 0h-2V7h2v10zm4 0h-2v-4h2v4z\"/>\n",
              "    </g>\n",
              "</svg>\n",
              "  </button>\n",
              "\n",
              "<style>\n",
              "  .colab-df-quickchart {\n",
              "      --bg-color: #E8F0FE;\n",
              "      --fill-color: #1967D2;\n",
              "      --hover-bg-color: #E2EBFA;\n",
              "      --hover-fill-color: #174EA6;\n",
              "      --disabled-fill-color: #AAA;\n",
              "      --disabled-bg-color: #DDD;\n",
              "  }\n",
              "\n",
              "  [theme=dark] .colab-df-quickchart {\n",
              "      --bg-color: #3B4455;\n",
              "      --fill-color: #D2E3FC;\n",
              "      --hover-bg-color: #434B5C;\n",
              "      --hover-fill-color: #FFFFFF;\n",
              "      --disabled-bg-color: #3B4455;\n",
              "      --disabled-fill-color: #666;\n",
              "  }\n",
              "\n",
              "  .colab-df-quickchart {\n",
              "    background-color: var(--bg-color);\n",
              "    border: none;\n",
              "    border-radius: 50%;\n",
              "    cursor: pointer;\n",
              "    display: none;\n",
              "    fill: var(--fill-color);\n",
              "    height: 32px;\n",
              "    padding: 0;\n",
              "    width: 32px;\n",
              "  }\n",
              "\n",
              "  .colab-df-quickchart:hover {\n",
              "    background-color: var(--hover-bg-color);\n",
              "    box-shadow: 0 1px 2px rgba(60, 64, 67, 0.3), 0 1px 3px 1px rgba(60, 64, 67, 0.15);\n",
              "    fill: var(--button-hover-fill-color);\n",
              "  }\n",
              "\n",
              "  .colab-df-quickchart-complete:disabled,\n",
              "  .colab-df-quickchart-complete:disabled:hover {\n",
              "    background-color: var(--disabled-bg-color);\n",
              "    fill: var(--disabled-fill-color);\n",
              "    box-shadow: none;\n",
              "  }\n",
              "\n",
              "  .colab-df-spinner {\n",
              "    border: 2px solid var(--fill-color);\n",
              "    border-color: transparent;\n",
              "    border-bottom-color: var(--fill-color);\n",
              "    animation:\n",
              "      spin 1s steps(1) infinite;\n",
              "  }\n",
              "\n",
              "  @keyframes spin {\n",
              "    0% {\n",
              "      border-color: transparent;\n",
              "      border-bottom-color: var(--fill-color);\n",
              "      border-left-color: var(--fill-color);\n",
              "    }\n",
              "    20% {\n",
              "      border-color: transparent;\n",
              "      border-left-color: var(--fill-color);\n",
              "      border-top-color: var(--fill-color);\n",
              "    }\n",
              "    30% {\n",
              "      border-color: transparent;\n",
              "      border-left-color: var(--fill-color);\n",
              "      border-top-color: var(--fill-color);\n",
              "      border-right-color: var(--fill-color);\n",
              "    }\n",
              "    40% {\n",
              "      border-color: transparent;\n",
              "      border-right-color: var(--fill-color);\n",
              "      border-top-color: var(--fill-color);\n",
              "    }\n",
              "    60% {\n",
              "      border-color: transparent;\n",
              "      border-right-color: var(--fill-color);\n",
              "    }\n",
              "    80% {\n",
              "      border-color: transparent;\n",
              "      border-right-color: var(--fill-color);\n",
              "      border-bottom-color: var(--fill-color);\n",
              "    }\n",
              "    90% {\n",
              "      border-color: transparent;\n",
              "      border-bottom-color: var(--fill-color);\n",
              "    }\n",
              "  }\n",
              "</style>\n",
              "\n",
              "  <script>\n",
              "    async function quickchart(key) {\n",
              "      const quickchartButtonEl =\n",
              "        document.querySelector('#' + key + ' button');\n",
              "      quickchartButtonEl.disabled = true;  // To prevent multiple clicks.\n",
              "      quickchartButtonEl.classList.add('colab-df-spinner');\n",
              "      try {\n",
              "        const charts = await google.colab.kernel.invokeFunction(\n",
              "            'suggestCharts', [key], {});\n",
              "      } catch (error) {\n",
              "        console.error('Error during call to suggestCharts:', error);\n",
              "      }\n",
              "      quickchartButtonEl.classList.remove('colab-df-spinner');\n",
              "      quickchartButtonEl.classList.add('colab-df-quickchart-complete');\n",
              "    }\n",
              "    (() => {\n",
              "      let quickchartButtonEl =\n",
              "        document.querySelector('#df-38ce2072-f33b-4b26-a4ae-ea391bcb642a button');\n",
              "      quickchartButtonEl.style.display =\n",
              "        google.colab.kernel.accessAllowed ? 'block' : 'none';\n",
              "    })();\n",
              "  </script>\n",
              "</div>\n",
              "    </div>\n",
              "  </div>\n"
            ],
            "application/vnd.google.colaboratory.intrinsic+json": {
              "type": "dataframe",
              "variable_name": "data_scaled",
              "summary": "{\n  \"name\": \"data_scaled\",\n  \"rows\": 15873,\n  \"fields\": [\n    {\n      \"column\": \"Price\",\n      \"properties\": {\n        \"dtype\": \"number\",\n        \"std\": 1.0044111078498357,\n        \"min\": -0.41897772013272266,\n        \"max\": 29.20536165197903,\n        \"num_unique_values\": 7575,\n        \"samples\": [\n          2.588370849644582,\n          -0.3868861306474413,\n          -0.29527593996480517\n        ],\n        \"semantic_type\": \"\",\n        \"description\": \"\"\n      }\n    },\n    {\n      \"column\": \"Metro station\",\n      \"properties\": {\n        \"dtype\": \"number\",\n        \"std\": 0.9999502619508245,\n        \"min\": -2.2446905501617156,\n        \"max\": 1.5718292409280707,\n        \"num_unique_values\": 535,\n        \"samples\": [\n          0.22276638437069213,\n          0.6072143486746083,\n          0.8658429792063337\n        ],\n        \"semantic_type\": \"\",\n        \"description\": \"\"\n      }\n    },\n    {\n      \"column\": \"Minutes to metro\",\n      \"properties\": {\n        \"dtype\": \"number\",\n        \"std\": 1.006294744019525,\n        \"min\": -1.9161816912298812,\n        \"max\": 7.754499137224592,\n        \"num_unique_values\": 56,\n        \"samples\": [\n          2.2744466677670565,\n          0.6626665296913113,\n          -1.7550036774223068\n        ],\n        \"semantic_type\": \"\",\n        \"description\": \"\"\n      }\n    },\n    {\n      \"column\": \"Number of rooms\",\n      \"properties\": {\n        \"dtype\": \"number\",\n        \"std\": 0.9998380017738258,\n        \"min\": -1.3410296537757125,\n        \"max\": 5.222576741436474,\n        \"num_unique_values\": 11,\n        \"samples\": [\n          1.284412904309162,\n          -0.6846690142544939,\n          3.909855462394037\n        ],\n        \"semantic_type\": \"\",\n        \"description\": \"\"\n      }\n    },\n    {\n      \"column\": \"Area\",\n      \"properties\": {\n        \"dtype\": \"number\",\n        \"std\": 0.9938736507612316,\n        \"min\": -0.9283240942178688,\n        \"max\": 15.285614846871187,\n        \"num_unique_values\": 2690,\n        \"samples\": [\n          0.9439214488217336,\n          7.738125001492789,\n          -0.019992467477561785\n        ],\n        \"semantic_type\": \"\",\n        \"description\": \"\"\n      }\n    },\n    {\n      \"column\": \"Living area\",\n      \"properties\": {\n        \"dtype\": \"number\",\n        \"std\": 0.9915341375455746,\n        \"min\": -0.9578872025441629,\n        \"max\": 13.857146199042571,\n        \"num_unique_values\": 1190,\n        \"samples\": [\n          0.5241407492788726,\n          -0.48835976294005085,\n          -0.16310053103552627\n        ],\n        \"semantic_type\": \"\",\n        \"description\": \"\"\n      }\n    },\n    {\n      \"column\": \"Kitchen area\",\n      \"properties\": {\n        \"dtype\": \"number\",\n        \"std\": 0.9944284828281044,\n        \"min\": -1.5002880260892533,\n        \"max\": 13.898453973079992,\n        \"num_unique_values\": 445,\n        \"samples\": [\n          3.0287537383722896,\n          0.7512927368144849,\n          0.44072987296569366\n        ],\n        \"semantic_type\": \"\",\n        \"description\": \"\"\n      }\n    },\n    {\n      \"column\": \"Floor\",\n      \"properties\": {\n        \"dtype\": \"number\",\n        \"std\": 1.0030725254044162,\n        \"min\": -1.0848543630692258,\n        \"max\": 9.643864458069213,\n        \"num_unique_values\": 69,\n        \"samples\": [\n          0.9019454186230778,\n          0.5045854622846171,\n          5.670264894684607\n        ],\n        \"semantic_type\": \"\",\n        \"description\": \"\"\n      }\n    },\n    {\n      \"column\": \"Number of floors\",\n      \"properties\": {\n        \"dtype\": \"number\",\n        \"std\": 1.0042731467764157,\n        \"min\": -1.590752147170275,\n        \"max\": 8.226120953230527,\n        \"num_unique_values\": 79,\n        \"samples\": [\n          1.0679843175216088,\n          0.04539336956319198,\n          0.8634661279299255\n        ],\n        \"semantic_type\": \"\",\n        \"description\": \"\"\n      }\n    },\n    {\n      \"column\": \"Region_Moscow\",\n      \"properties\": {\n        \"dtype\": \"number\",\n        \"std\": 0.9997705597940503,\n        \"min\": -1.5668845612876678,\n        \"max\": 0.6382091091498145,\n        \"num_unique_values\": 2,\n        \"samples\": [\n          -1.5668845612876678,\n          0.6382091091498145\n        ],\n        \"semantic_type\": \"\",\n        \"description\": \"\"\n      }\n    },\n    {\n      \"column\": \"Region_Moscow region\",\n      \"properties\": {\n        \"dtype\": \"number\",\n        \"std\": 0.99977055979405,\n        \"min\": -0.6382091091498145,\n        \"max\": 1.5668845612876674,\n        \"num_unique_values\": 2,\n        \"samples\": [\n          1.5668845612876674,\n          -0.6382091091498145\n        ],\n        \"semantic_type\": \"\",\n        \"description\": \"\"\n      }\n    },\n    {\n      \"column\": \"Renovation_Cosmetic\",\n      \"properties\": {\n        \"dtype\": \"number\",\n        \"std\": 0.9998418065305897,\n        \"min\": -1.1372267978042079,\n        \"max\": 0.8793320751241795,\n        \"num_unique_values\": 2,\n        \"samples\": [\n          0.8793320751241795,\n          -1.1372267978042079\n        ],\n        \"semantic_type\": \"\",\n        \"description\": \"\"\n      }\n    },\n    {\n      \"column\": \"Renovation_Designer\",\n      \"properties\": {\n        \"dtype\": \"number\",\n        \"std\": 1.0010751305891774,\n        \"min\": -0.39227218604203146,\n        \"max\": 2.549250330720239,\n        \"num_unique_values\": 2,\n        \"samples\": [\n          2.549250330720239,\n          -0.39227218604203146\n        ],\n        \"semantic_type\": \"\",\n        \"description\": \"\"\n      }\n    },\n    {\n      \"column\": \"Renovation_European-style renovation\",\n      \"properties\": {\n        \"dtype\": \"number\",\n        \"std\": 1.0020452468660794,\n        \"min\": -0.4391421986036231,\n        \"max\": 2.2771667199822354,\n        \"num_unique_values\": 2,\n        \"samples\": [\n          -0.4391421986036231,\n          2.2771667199822354\n        ],\n        \"semantic_type\": \"\",\n        \"description\": \"\"\n      }\n    },\n    {\n      \"column\": \"Renovation_Without renovation\",\n      \"properties\": {\n        \"dtype\": \"number\",\n        \"std\": 0.9944809926517817,\n        \"min\": -0.40519777223434733,\n        \"max\": 2.4679306465230195,\n        \"num_unique_values\": 2,\n        \"samples\": [\n          2.4679306465230195,\n          -0.40519777223434733\n        ],\n        \"semantic_type\": \"\",\n        \"description\": \"\"\n      }\n    }\n  ]\n}"
            }
          },
          "metadata": {},
          "execution_count": 27
        }
      ],
      "source": [
        "all_cols = list(X_train.columns)\n",
        "scaler = StandardScaler()\n",
        "scaler.fit(X[all_cols])\n",
        "scaled = scaler.transform(X_train[all_cols])\n",
        "data_scaled = pd.DataFrame(scaled, columns=all_cols)\n",
        "data_scaled.head()"
      ]
    },
    {
      "cell_type": "markdown",
      "metadata": {
        "id": "UWpKGSsA8TBn"
      },
      "source": [
        "   - Осуществить бинарную классификацию."
      ]
    },
    {
      "cell_type": "code",
      "execution_count": 28,
      "metadata": {
        "id": "89hOOYgI8TBn"
      },
      "outputs": [],
      "source": [
        "scaled_model = KNeighborsClassifier(n_neighbors=k, metric='euclidean')"
      ]
    },
    {
      "cell_type": "code",
      "execution_count": 29,
      "metadata": {
        "colab": {
          "base_uri": "https://localhost:8080/",
          "height": 74
        },
        "id": "RxVrihx58TBn",
        "outputId": "ca773aae-9bbb-40b9-e8f9-ea57dcc589c3"
      },
      "outputs": [
        {
          "output_type": "execute_result",
          "data": {
            "text/plain": [
              "KNeighborsClassifier(metric='euclidean', n_neighbors=3)"
            ],
            "text/html": [
              "<style>#sk-container-id-2 {color: black;background-color: white;}#sk-container-id-2 pre{padding: 0;}#sk-container-id-2 div.sk-toggleable {background-color: white;}#sk-container-id-2 label.sk-toggleable__label {cursor: pointer;display: block;width: 100%;margin-bottom: 0;padding: 0.3em;box-sizing: border-box;text-align: center;}#sk-container-id-2 label.sk-toggleable__label-arrow:before {content: \"▸\";float: left;margin-right: 0.25em;color: #696969;}#sk-container-id-2 label.sk-toggleable__label-arrow:hover:before {color: black;}#sk-container-id-2 div.sk-estimator:hover label.sk-toggleable__label-arrow:before {color: black;}#sk-container-id-2 div.sk-toggleable__content {max-height: 0;max-width: 0;overflow: hidden;text-align: left;background-color: #f0f8ff;}#sk-container-id-2 div.sk-toggleable__content pre {margin: 0.2em;color: black;border-radius: 0.25em;background-color: #f0f8ff;}#sk-container-id-2 input.sk-toggleable__control:checked~div.sk-toggleable__content {max-height: 200px;max-width: 100%;overflow: auto;}#sk-container-id-2 input.sk-toggleable__control:checked~label.sk-toggleable__label-arrow:before {content: \"▾\";}#sk-container-id-2 div.sk-estimator input.sk-toggleable__control:checked~label.sk-toggleable__label {background-color: #d4ebff;}#sk-container-id-2 div.sk-label input.sk-toggleable__control:checked~label.sk-toggleable__label {background-color: #d4ebff;}#sk-container-id-2 input.sk-hidden--visually {border: 0;clip: rect(1px 1px 1px 1px);clip: rect(1px, 1px, 1px, 1px);height: 1px;margin: -1px;overflow: hidden;padding: 0;position: absolute;width: 1px;}#sk-container-id-2 div.sk-estimator {font-family: monospace;background-color: #f0f8ff;border: 1px dotted black;border-radius: 0.25em;box-sizing: border-box;margin-bottom: 0.5em;}#sk-container-id-2 div.sk-estimator:hover {background-color: #d4ebff;}#sk-container-id-2 div.sk-parallel-item::after {content: \"\";width: 100%;border-bottom: 1px solid gray;flex-grow: 1;}#sk-container-id-2 div.sk-label:hover label.sk-toggleable__label {background-color: #d4ebff;}#sk-container-id-2 div.sk-serial::before {content: \"\";position: absolute;border-left: 1px solid gray;box-sizing: border-box;top: 0;bottom: 0;left: 50%;z-index: 0;}#sk-container-id-2 div.sk-serial {display: flex;flex-direction: column;align-items: center;background-color: white;padding-right: 0.2em;padding-left: 0.2em;position: relative;}#sk-container-id-2 div.sk-item {position: relative;z-index: 1;}#sk-container-id-2 div.sk-parallel {display: flex;align-items: stretch;justify-content: center;background-color: white;position: relative;}#sk-container-id-2 div.sk-item::before, #sk-container-id-2 div.sk-parallel-item::before {content: \"\";position: absolute;border-left: 1px solid gray;box-sizing: border-box;top: 0;bottom: 0;left: 50%;z-index: -1;}#sk-container-id-2 div.sk-parallel-item {display: flex;flex-direction: column;z-index: 1;position: relative;background-color: white;}#sk-container-id-2 div.sk-parallel-item:first-child::after {align-self: flex-end;width: 50%;}#sk-container-id-2 div.sk-parallel-item:last-child::after {align-self: flex-start;width: 50%;}#sk-container-id-2 div.sk-parallel-item:only-child::after {width: 0;}#sk-container-id-2 div.sk-dashed-wrapped {border: 1px dashed gray;margin: 0 0.4em 0.5em 0.4em;box-sizing: border-box;padding-bottom: 0.4em;background-color: white;}#sk-container-id-2 div.sk-label label {font-family: monospace;font-weight: bold;display: inline-block;line-height: 1.2em;}#sk-container-id-2 div.sk-label-container {text-align: center;}#sk-container-id-2 div.sk-container {/* jupyter's `normalize.less` sets `[hidden] { display: none; }` but bootstrap.min.css set `[hidden] { display: none !important; }` so we also need the `!important` here to be able to override the default hidden behavior on the sphinx rendered scikit-learn.org. See: https://github.com/scikit-learn/scikit-learn/issues/21755 */display: inline-block !important;position: relative;}#sk-container-id-2 div.sk-text-repr-fallback {display: none;}</style><div id=\"sk-container-id-2\" class=\"sk-top-container\"><div class=\"sk-text-repr-fallback\"><pre>KNeighborsClassifier(metric=&#x27;euclidean&#x27;, n_neighbors=3)</pre><b>In a Jupyter environment, please rerun this cell to show the HTML representation or trust the notebook. <br />On GitHub, the HTML representation is unable to render, please try loading this page with nbviewer.org.</b></div><div class=\"sk-container\" hidden><div class=\"sk-item\"><div class=\"sk-estimator sk-toggleable\"><input class=\"sk-toggleable__control sk-hidden--visually\" id=\"sk-estimator-id-2\" type=\"checkbox\" checked><label for=\"sk-estimator-id-2\" class=\"sk-toggleable__label sk-toggleable__label-arrow\">KNeighborsClassifier</label><div class=\"sk-toggleable__content\"><pre>KNeighborsClassifier(metric=&#x27;euclidean&#x27;, n_neighbors=3)</pre></div></div></div></div></div>"
            ]
          },
          "metadata": {},
          "execution_count": 29
        }
      ],
      "source": [
        "scaled_model.fit(data_scaled, y_train)"
      ]
    },
    {
      "cell_type": "code",
      "execution_count": 30,
      "metadata": {
        "colab": {
          "base_uri": "https://localhost:8080/"
        },
        "id": "1wlw82EE8TBn",
        "outputId": "2126234b-91e7-4b7b-912f-84d2a3b7eb78"
      },
      "outputs": [
        {
          "output_type": "stream",
          "name": "stderr",
          "text": [
            "/usr/local/lib/python3.10/dist-packages/sklearn/base.py:439: UserWarning: X does not have valid feature names, but KNeighborsClassifier was fitted with feature names\n",
            "  warnings.warn(\n"
          ]
        }
      ],
      "source": [
        "preds_scaled = scaled_model.predict(scaler.transform(X_test))"
      ]
    },
    {
      "cell_type": "markdown",
      "metadata": {
        "id": "Mxpueu2p8TBn"
      },
      "source": [
        "   - Посчитать метрики: $accuracy$, $precision$, $recall$, $\\textit{f-measure}$, а также составить `classification_report`."
      ]
    },
    {
      "cell_type": "code",
      "execution_count": 31,
      "metadata": {
        "colab": {
          "base_uri": "https://localhost:8080/"
        },
        "id": "ckUdjbg28TBo",
        "outputId": "5fabe19a-b9c4-49cb-d7b3-c372c44ea8f3"
      },
      "outputs": [
        {
          "output_type": "stream",
          "name": "stdout",
          "text": [
            "Accuracy:\t0.9819197412906071\n",
            "Precision:\t0.9724450645273806\n",
            "Recall:\t0.9844632768361582\n",
            "F1-measure:\t0.9784172661870505\n",
            "              precision    recall  f1-score   support\n",
            "\n",
            "           0       0.99      0.98      0.98      3971\n",
            "           1       0.97      0.98      0.98      2832\n",
            "\n",
            "    accuracy                           0.98      6803\n",
            "   macro avg       0.98      0.98      0.98      6803\n",
            "weighted avg       0.98      0.98      0.98      6803\n",
            "\n"
          ]
        }
      ],
      "source": [
        "print(f'Accuracy:\\t{accuracy_score(y_test, preds_scaled)}')\n",
        "print(f'Precision:\\t{precision_score(y_test, preds_scaled)}')\n",
        "print(f'Recall:\\t{recall_score(y_test, preds_scaled)}')\n",
        "print(f'F1-measure:\\t{f1_score(y_test, preds_scaled)}')\n",
        "print(classification_report(y_test, preds_scaled))"
      ]
    },
    {
      "cell_type": "markdown",
      "metadata": {
        "id": "mPAdmQav8TBo"
      },
      "source": [
        "   - Сравнить метрики на данных без нормализации и с применением нормализации."
      ]
    },
    {
      "cell_type": "markdown",
      "metadata": {
        "id": "-CZOPu1L8TBo"
      },
      "source": [
        "Все метрики очень сильно выросли, что говорит о том, что нормализация крайне положительно влияет на качество обучения"
      ]
    },
    {
      "cell_type": "markdown",
      "metadata": {
        "id": "Ant2C4cU8TBo"
      },
      "source": [
        "     > Далее используем нормализованные данные.\n",
        "   - Построить `сorrelation heatmap` и/или воспользоваться методом `corr()`. Выбрать наиболее важные признаки эвристически или на основании каких-нибудь вычислений."
      ]
    },
    {
      "cell_type": "code",
      "execution_count": 32,
      "metadata": {
        "id": "ayWjMDBN8TBo"
      },
      "outputs": [],
      "source": [
        "import seaborn as sns"
      ]
    },
    {
      "cell_type": "code",
      "execution_count": 33,
      "metadata": {
        "colab": {
          "base_uri": "https://localhost:8080/",
          "height": 707
        },
        "id": "f6A3-bv08TBq",
        "outputId": "4c201058-8ee4-48c8-9162-493866818f4f"
      },
      "outputs": [
        {
          "output_type": "execute_result",
          "data": {
            "text/plain": [
              "<Axes: >"
            ]
          },
          "metadata": {},
          "execution_count": 33
        },
        {
          "output_type": "display_data",
          "data": {
            "text/plain": [
              "<Figure size 640x480 with 2 Axes>"
            ],
            "image/png": "[encoded data removed]"
          },
          "metadata": {}
        }
      ],
      "source": [
        "sns.heatmap(data_scaled.corr())"
      ]
    },
    {
      "cell_type": "code",
      "execution_count": 34,
      "metadata": {
        "colab": {
          "base_uri": "https://localhost:8080/"
        },
        "id": "KqYPWre38TBq",
        "outputId": "817e1233-f7ff-404e-d013-34a3496ee5e3"
      },
      "outputs": [
        {
          "output_type": "stream",
          "name": "stdout",
          "text": [
            "Index(['Area', 'Living area', 'Price', 'Number of rooms', 'Kitchen area',\n",
            "       'Region_Moscow', 'Region_Moscow region'],\n",
            "      dtype='object')\n"
          ]
        }
      ],
      "source": [
        "import numpy as np\n",
        "matrix = data_scaled.corr()\n",
        "np.fill_diagonal(matrix.values, 0)\n",
        "threshold = 0.65\n",
        "filtered_corr = matrix.abs() > threshold\n",
        "feature_importance = filtered_corr.sum(axis=1)\n",
        "sorted_features = feature_importance.sort_values(ascending=False)\n",
        "filter_threshold = 0\n",
        "selected_features = sorted_features[sorted_features > filter_threshold].index\n",
        "print(selected_features)"
      ]
    },
    {
      "cell_type": "markdown",
      "metadata": {
        "id": "FWX4a2rL8TBq"
      },
      "source": [
        "   - Осуществить бинарную классификацию с отфильтрованными признаками."
      ]
    },
    {
      "cell_type": "code",
      "execution_count": 35,
      "metadata": {
        "id": "odiNMR4J8TBq"
      },
      "outputs": [],
      "source": [
        "filter_model = KNeighborsClassifier(n_neighbors=k,  metric='euclidean')"
      ]
    },
    {
      "cell_type": "code",
      "execution_count": 36,
      "metadata": {
        "colab": {
          "base_uri": "https://localhost:8080/",
          "height": 74
        },
        "id": "U9qk5-uA8TBq",
        "outputId": "c398b286-c72a-4209-bf97-9c3b1c015900"
      },
      "outputs": [
        {
          "output_type": "execute_result",
          "data": {
            "text/plain": [
              "KNeighborsClassifier(metric='euclidean', n_neighbors=3)"
            ],
            "text/html": [
              "<style>#sk-container-id-3 {color: black;background-color: white;}#sk-container-id-3 pre{padding: 0;}#sk-container-id-3 div.sk-toggleable {background-color: white;}#sk-container-id-3 label.sk-toggleable__label {cursor: pointer;display: block;width: 100%;margin-bottom: 0;padding: 0.3em;box-sizing: border-box;text-align: center;}#sk-container-id-3 label.sk-toggleable__label-arrow:before {content: \"▸\";float: left;margin-right: 0.25em;color: #696969;}#sk-container-id-3 label.sk-toggleable__label-arrow:hover:before {color: black;}#sk-container-id-3 div.sk-estimator:hover label.sk-toggleable__label-arrow:before {color: black;}#sk-container-id-3 div.sk-toggleable__content {max-height: 0;max-width: 0;overflow: hidden;text-align: left;background-color: #f0f8ff;}#sk-container-id-3 div.sk-toggleable__content pre {margin: 0.2em;color: black;border-radius: 0.25em;background-color: #f0f8ff;}#sk-container-id-3 input.sk-toggleable__control:checked~div.sk-toggleable__content {max-height: 200px;max-width: 100%;overflow: auto;}#sk-container-id-3 input.sk-toggleable__control:checked~label.sk-toggleable__label-arrow:before {content: \"▾\";}#sk-container-id-3 div.sk-estimator input.sk-toggleable__control:checked~label.sk-toggleable__label {background-color: #d4ebff;}#sk-container-id-3 div.sk-label input.sk-toggleable__control:checked~label.sk-toggleable__label {background-color: #d4ebff;}#sk-container-id-3 input.sk-hidden--visually {border: 0;clip: rect(1px 1px 1px 1px);clip: rect(1px, 1px, 1px, 1px);height: 1px;margin: -1px;overflow: hidden;padding: 0;position: absolute;width: 1px;}#sk-container-id-3 div.sk-estimator {font-family: monospace;background-color: #f0f8ff;border: 1px dotted black;border-radius: 0.25em;box-sizing: border-box;margin-bottom: 0.5em;}#sk-container-id-3 div.sk-estimator:hover {background-color: #d4ebff;}#sk-container-id-3 div.sk-parallel-item::after {content: \"\";width: 100%;border-bottom: 1px solid gray;flex-grow: 1;}#sk-container-id-3 div.sk-label:hover label.sk-toggleable__label {background-color: #d4ebff;}#sk-container-id-3 div.sk-serial::before {content: \"\";position: absolute;border-left: 1px solid gray;box-sizing: border-box;top: 0;bottom: 0;left: 50%;z-index: 0;}#sk-container-id-3 div.sk-serial {display: flex;flex-direction: column;align-items: center;background-color: white;padding-right: 0.2em;padding-left: 0.2em;position: relative;}#sk-container-id-3 div.sk-item {position: relative;z-index: 1;}#sk-container-id-3 div.sk-parallel {display: flex;align-items: stretch;justify-content: center;background-color: white;position: relative;}#sk-container-id-3 div.sk-item::before, #sk-container-id-3 div.sk-parallel-item::before {content: \"\";position: absolute;border-left: 1px solid gray;box-sizing: border-box;top: 0;bottom: 0;left: 50%;z-index: -1;}#sk-container-id-3 div.sk-parallel-item {display: flex;flex-direction: column;z-index: 1;position: relative;background-color: white;}#sk-container-id-3 div.sk-parallel-item:first-child::after {align-self: flex-end;width: 50%;}#sk-container-id-3 div.sk-parallel-item:last-child::after {align-self: flex-start;width: 50%;}#sk-container-id-3 div.sk-parallel-item:only-child::after {width: 0;}#sk-container-id-3 div.sk-dashed-wrapped {border: 1px dashed gray;margin: 0 0.4em 0.5em 0.4em;box-sizing: border-box;padding-bottom: 0.4em;background-color: white;}#sk-container-id-3 div.sk-label label {font-family: monospace;font-weight: bold;display: inline-block;line-height: 1.2em;}#sk-container-id-3 div.sk-label-container {text-align: center;}#sk-container-id-3 div.sk-container {/* jupyter's `normalize.less` sets `[hidden] { display: none; }` but bootstrap.min.css set `[hidden] { display: none !important; }` so we also need the `!important` here to be able to override the default hidden behavior on the sphinx rendered scikit-learn.org. See: https://github.com/scikit-learn/scikit-learn/issues/21755 */display: inline-block !important;position: relative;}#sk-container-id-3 div.sk-text-repr-fallback {display: none;}</style><div id=\"sk-container-id-3\" class=\"sk-top-container\"><div class=\"sk-text-repr-fallback\"><pre>KNeighborsClassifier(metric=&#x27;euclidean&#x27;, n_neighbors=3)</pre><b>In a Jupyter environment, please rerun this cell to show the HTML representation or trust the notebook. <br />On GitHub, the HTML representation is unable to render, please try loading this page with nbviewer.org.</b></div><div class=\"sk-container\" hidden><div class=\"sk-item\"><div class=\"sk-estimator sk-toggleable\"><input class=\"sk-toggleable__control sk-hidden--visually\" id=\"sk-estimator-id-3\" type=\"checkbox\" checked><label for=\"sk-estimator-id-3\" class=\"sk-toggleable__label sk-toggleable__label-arrow\">KNeighborsClassifier</label><div class=\"sk-toggleable__content\"><pre>KNeighborsClassifier(metric=&#x27;euclidean&#x27;, n_neighbors=3)</pre></div></div></div></div></div>"
            ]
          },
          "metadata": {},
          "execution_count": 36
        }
      ],
      "source": [
        "filter_model.fit(data_scaled[selected_features], y_train)"
      ]
    },
    {
      "cell_type": "code",
      "execution_count": 37,
      "metadata": {
        "id": "sG6gIIC78TBq"
      },
      "outputs": [],
      "source": [
        "filter_preds = filter_model.predict(pd.DataFrame(scaler.transform(X_test), columns=all_cols)[selected_features])"
      ]
    },
    {
      "cell_type": "markdown",
      "metadata": {
        "id": "80XZ4nXP8TBq"
      },
      "source": [
        "   - Посчитать метрики: $accuracy$, $precision$, $recall$, $\\textit{f-measure}$, а также составить `classification_report`."
      ]
    },
    {
      "cell_type": "code",
      "execution_count": 38,
      "metadata": {
        "colab": {
          "base_uri": "https://localhost:8080/"
        },
        "id": "clAv-kvM8TBq",
        "outputId": "b33929c4-9875-492a-a554-d5a6841219a5"
      },
      "outputs": [
        {
          "output_type": "stream",
          "name": "stdout",
          "text": [
            "Accuracy:\t0.974276054681758\n",
            "Precision:\t0.9592118907708261\n",
            "Recall:\t0.9798728813559322\n",
            "F1-measure:\t0.9694323144104804\n",
            "              precision    recall  f1-score   support\n",
            "\n",
            "           0       0.99      0.97      0.98      3971\n",
            "           1       0.96      0.98      0.97      2832\n",
            "\n",
            "    accuracy                           0.97      6803\n",
            "   macro avg       0.97      0.98      0.97      6803\n",
            "weighted avg       0.97      0.97      0.97      6803\n",
            "\n"
          ]
        }
      ],
      "source": [
        "print(f'Accuracy:\\t{accuracy_score(y_test, filter_preds)}')\n",
        "print(f'Precision:\\t{precision_score(y_test, filter_preds)}')\n",
        "print(f'Recall:\\t{recall_score(y_test, filter_preds)}')\n",
        "print(f'F1-measure:\\t{f1_score(y_test, filter_preds)}')\n",
        "print(classification_report(y_test, filter_preds))"
      ]
    },
    {
      "cell_type": "markdown",
      "metadata": {
        "id": "UtTqCj-18TBr"
      },
      "source": [
        "   - Сравнить результаты \"до\" и \"после\" фильтрации, сделать выводы."
      ]
    },
    {
      "cell_type": "markdown",
      "metadata": {
        "id": "KKiz8eEr8TBs"
      },
      "source": [
        "Метрики немного ухудшились, но у нас теперь гораздо меньше признаков используется, что определенно хорошо"
      ]
    },
    {
      "cell_type": "markdown",
      "metadata": {
        "id": "9H55Axbd8TBs"
      },
      "source": [
        "   - Перебрать значения гиперпараметра $k$ в каком-нибудь диапазоне с использованием кросс-валидации на данных\n",
        "     > данных - исходных данных до разбиения с применением нормализации\n",
        "   \n",
        "     с отфильтрованными признаками. Построить график *train/test accuracy* в зависимости от значения $k$."
      ]
    },
    {
      "cell_type": "code",
      "execution_count": 39,
      "metadata": {
        "id": "_UsFUxIy8TBs"
      },
      "outputs": [],
      "source": [
        "from sklearn.model_selection import cross_val_score"
      ]
    },
    {
      "cell_type": "code",
      "execution_count": 40,
      "metadata": {
        "colab": {
          "base_uri": "https://localhost:8080/"
        },
        "id": "5EeclOln8TBs",
        "outputId": "3402e195-5a14-4fde-d7f0-ea33a473d2be"
      },
      "outputs": [
        {
          "output_type": "stream",
          "name": "stdout",
          "text": [
            "Neighbors: 1, folds count: 10 avg score: 0.9423666882165632\n",
            "Neighbors: 2, folds count: 10 avg score: 0.9406908142204422\n",
            "Neighbors: 3, folds count: 10 avg score: 0.9422787576367933\n",
            "Neighbors: 4, folds count: 10 avg score: 0.9405150308583627\n",
            "Neighbors: 5, folds count: 10 avg score: 0.9399417997197734\n",
            "Neighbors: 6, folds count: 10 avg score: 0.9396775022969699\n",
            "Neighbors: 7, folds count: 10 avg score: 0.938134195173601\n",
            "Neighbors: 8, folds count: 10 avg score: 0.9383106787128254\n",
            "Neighbors: 9, folds count: 10 avg score: 0.9358853428806377\n",
            "Neighbors: 10, folds count: 10 avg score: 0.935708956588239\n",
            "Neighbors: 11, folds count: 10 avg score: 0.932842606401642\n",
            "Neighbors: 12, folds count: 10 avg score: 0.9331513845225065\n",
            "Neighbors: 13, folds count: 10 avg score: 0.9304611872359263\n",
            "Neighbors: 14, folds count: 10 avg score: 0.9300641867948146\n",
            "Neighbors: 15, folds count: 10 avg score: 0.9277712427910927\n",
            "Neighbors: 16, folds count: 10 avg score: 0.9284767685113223\n",
            "Neighbors: 17, folds count: 10 avg score: 0.9264483358734203\n",
            "Neighbors: 18, folds count: 10 avg score: 0.9257427712544606\n",
            "Neighbors: 19, folds count: 10 avg score: 0.9238904331684805\n",
            "Neighbors: 20, folds count: 10 avg score: 0.9231849657963466\n"
          ]
        }
      ],
      "source": [
        "X_scaled = pd.DataFrame(scaler.transform(X), columns=all_cols)[selected_features]\n",
        "X_train_scaled = pd.DataFrame(scaler.transform(X_train), columns=all_cols)[selected_features]\n",
        "X_test_scaled = pd.DataFrame(scaler.transform(X_test), columns=all_cols)[selected_features]\n",
        "\n",
        "train_score = []\n",
        "test_score = []\n",
        "crossval_score = []\n",
        "\n",
        "for k in range(1, 21):\n",
        "    model = KNeighborsClassifier(n_neighbors=k)\n",
        "    scores = cross_val_score(model, X_scaled, y, cv = 10)\n",
        "    print(f\"Neighbors: {k}, folds count: 10 avg score: {scores.mean()}\")\n",
        "    crossval_score.append(scores.mean())\n",
        "    model.fit(X_train_scaled, y_train)\n",
        "    pred_train = model.predict(X_train_scaled)\n",
        "    pred_test = model.predict(X_test_scaled)\n",
        "    train_score.append(accuracy_score(y_train, pred_train))\n",
        "    test_score.append(accuracy_score(y_test, pred_test))\n",
        "\n"
      ]
    },
    {
      "cell_type": "code",
      "execution_count": 41,
      "metadata": {
        "id": "5UQM2V3d8TBs"
      },
      "outputs": [],
      "source": [
        "from matplotlib import pyplot as plt"
      ]
    },
    {
      "cell_type": "code",
      "execution_count": 42,
      "metadata": {
        "colab": {
          "base_uri": "https://localhost:8080/",
          "height": 430
        },
        "id": "YfCeEtg58TBt",
        "outputId": "206b6df1-be5e-433c-bc83-d1444b86d150"
      },
      "outputs": [
        {
          "output_type": "display_data",
          "data": {
            "text/plain": [
              "<Figure size 640x480 with 1 Axes>"
            ],
            "image/png": "[encoded data removed]"
          },
          "metadata": {}
        }
      ],
      "source": [
        "plt.plot(range(1, 21), train_score, label=\"train_score\")\n",
        "plt.plot(range(1, 21), test_score, label=\"test_score\")\n",
        "plt.legend()\n",
        "plt.grid()"
      ]
    },
    {
      "cell_type": "markdown",
      "metadata": {
        "id": "P7T9tH828TBt"
      },
      "source": [
        "3. Многоклассовая классификация:\n",
        "   - Привести описание датасета.\n",
        "   - Осуществить предобработку данных - \"подчистить данные\"."
      ]
    },
    {
      "cell_type": "markdown",
      "metadata": {
        "id": "68-JZrfX8TBt"
      },
      "source": [
        "Датасет не меняется, поэтому тут все аналогично бинарной классификации"
      ]
    },
    {
      "cell_type": "code",
      "execution_count": 43,
      "metadata": {
        "id": "KnpvokzN8TBt"
      },
      "outputs": [],
      "source": [
        "data = pd.read_csv('data.csv')"
      ]
    },
    {
      "cell_type": "markdown",
      "metadata": {
        "id": "nXJSe2IA8TBu"
      },
      "source": [
        "- Закодировать категориальные признаки при необходимости."
      ]
    },
    {
      "cell_type": "markdown",
      "metadata": {
        "id": "w-0acOs08TBu"
      },
      "source": [
        "Будем теперь предсказывать Renovation"
      ]
    },
    {
      "cell_type": "code",
      "execution_count": 44,
      "metadata": {
        "colab": {
          "base_uri": "https://localhost:8080/"
        },
        "id": "OpocRM1x8TBu",
        "outputId": "72f1723e-ef5a-48b3-dd93-51d6d9281f1e"
      },
      "outputs": [
        {
          "output_type": "stream",
          "name": "stdout",
          "text": [
            "<class 'pandas.core.frame.DataFrame'>\n",
            "RangeIndex: 22676 entries, 0 to 22675\n",
            "Data columns (total 14 columns):\n",
            " #   Column                       Non-Null Count  Dtype  \n",
            "---  ------                       --------------  -----  \n",
            " 0   Price                        22676 non-null  float64\n",
            " 1   Metro station                22676 non-null  object \n",
            " 2   Minutes to metro             22676 non-null  float64\n",
            " 3   Number of rooms              22676 non-null  float64\n",
            " 4   Area                         22676 non-null  float64\n",
            " 5   Living area                  22676 non-null  float64\n",
            " 6   Kitchen area                 22676 non-null  float64\n",
            " 7   Floor                        22676 non-null  float64\n",
            " 8   Number of floors             22676 non-null  int64  \n",
            " 9   Renovation                   22676 non-null  object \n",
            " 10  Region_Moscow                22676 non-null  uint8  \n",
            " 11  Region_Moscow region         22676 non-null  uint8  \n",
            " 12  Apartment type_New building  22676 non-null  uint8  \n",
            " 13  Apartment type_Secondary     22676 non-null  uint8  \n",
            "dtypes: float64(7), int64(1), object(2), uint8(4)\n",
            "memory usage: 1.8+ MB\n"
          ]
        }
      ],
      "source": [
        "cols = ['Region', 'Apartment type']\n",
        "data = pd.get_dummies(data=data, columns=cols, drop_first=False)\n",
        "data.info()"
      ]
    },
    {
      "cell_type": "code",
      "execution_count": 45,
      "metadata": {
        "id": "xHW0a3gr8TBu"
      },
      "outputs": [],
      "source": [
        "keys, values = pd.factorize(data['Metro station'].unique())\n",
        "d = dict(zip(values, keys))"
      ]
    },
    {
      "cell_type": "code",
      "execution_count": 46,
      "metadata": {
        "colab": {
          "base_uri": "https://localhost:8080/"
        },
        "id": "aC-C-rrT8TBu",
        "outputId": "154d1e21-60c5-4a7f-ab30-0c99bce15b51"
      },
      "outputs": [
        {
          "output_type": "execute_result",
          "data": {
            "text/plain": [
              "array(['Cosmetic', 'European-style renovation', 'Without renovation',\n",
              "       'Designer'], dtype=object)"
            ]
          },
          "metadata": {},
          "execution_count": 46
        }
      ],
      "source": [
        "data['Renovation'].unique()"
      ]
    },
    {
      "cell_type": "code",
      "execution_count": 47,
      "metadata": {
        "id": "iuRN2NTM8TBv"
      },
      "outputs": [],
      "source": [
        "data['Metro station'] = data['Metro station'].replace(d)\n",
        "data['Renovation'] = data['Renovation'].replace(\n",
        "    {\n",
        "        'Cosmetic': 0,\n",
        "        'European-style renovation': 1,\n",
        "        'Without renovation': 2,\n",
        "        'Designer': 3,\n",
        "    }\n",
        ")"
      ]
    },
    {
      "cell_type": "code",
      "execution_count": 48,
      "metadata": {
        "colab": {
          "base_uri": "https://localhost:8080/",
          "height": 261
        },
        "id": "jqXImg9q8TBv",
        "outputId": "52a64497-ad89-4ce5-81fa-03afbdb9aa7b"
      },
      "outputs": [
        {
          "output_type": "execute_result",
          "data": {
            "text/plain": [
              "        Price  Metro station  Minutes to metro  Number of rooms  Area  \\\n",
              "0   6300000.0              0               6.0              1.0  30.6   \n",
              "1   9000000.0              1               2.0              1.0  49.2   \n",
              "2  11090000.0              2              14.0              1.0  44.7   \n",
              "3   8300000.0              3               8.0              1.0  35.1   \n",
              "4   6450000.0              0               6.0              1.0  37.7   \n",
              "\n",
              "   Living area  Kitchen area  Floor  Number of floors  Renovation  \\\n",
              "0         11.1           8.5   25.0                25           0   \n",
              "1         20.0          10.0    6.0                15           1   \n",
              "2         16.2          13.1   10.0                25           0   \n",
              "3         16.0          11.0   12.0                33           1   \n",
              "4         15.2           4.0    5.0                 5           2   \n",
              "\n",
              "   Region_Moscow  Region_Moscow region  Apartment type_New building  \\\n",
              "0              0                     1                            0   \n",
              "1              0                     1                            0   \n",
              "2              0                     1                            0   \n",
              "3              0                     1                            0   \n",
              "4              0                     1                            0   \n",
              "\n",
              "   Apartment type_Secondary  \n",
              "0                         1  \n",
              "1                         1  \n",
              "2                         1  \n",
              "3                         1  \n",
              "4                         1  "
            ],
            "text/html": [
              "\n",
              "  <div id=\"df-80d872a9-4ad2-4a9a-a72b-1f7d19ec886d\" class=\"colab-df-container\">\n",
              "    <div>\n",
              "<style scoped>\n",
              "    .dataframe tbody tr th:only-of-type {\n",
              "        vertical-align: middle;\n",
              "    }\n",
              "\n",
              "    .dataframe tbody tr th {\n",
              "        vertical-align: top;\n",
              "    }\n",
              "\n",
              "    .dataframe thead th {\n",
              "        text-align: right;\n",
              "    }\n",
              "</style>\n",
              "<table border=\"1\" class=\"dataframe\">\n",
              "  <thead>\n",
              "    <tr style=\"text-align: right;\">\n",
              "      <th></th>\n",
              "      <th>Price</th>\n",
              "      <th>Metro station</th>\n",
              "      <th>Minutes to metro</th>\n",
              "      <th>Number of rooms</th>\n",
              "      <th>Area</th>\n",
              "      <th>Living area</th>\n",
              "      <th>Kitchen area</th>\n",
              "      <th>Floor</th>\n",
              "      <th>Number of floors</th>\n",
              "      <th>Renovation</th>\n",
              "      <th>Region_Moscow</th>\n",
              "      <th>Region_Moscow region</th>\n",
              "      <th>Apartment type_New building</th>\n",
              "      <th>Apartment type_Secondary</th>\n",
              "    </tr>\n",
              "  </thead>\n",
              "  <tbody>\n",
              "    <tr>\n",
              "      <th>0</th>\n",
              "      <td>6300000.0</td>\n",
              "      <td>0</td>\n",
              "      <td>6.0</td>\n",
              "      <td>1.0</td>\n",
              "      <td>30.6</td>\n",
              "      <td>11.1</td>\n",
              "      <td>8.5</td>\n",
              "      <td>25.0</td>\n",
              "      <td>25</td>\n",
              "      <td>0</td>\n",
              "      <td>0</td>\n",
              "      <td>1</td>\n",
              "      <td>0</td>\n",
              "      <td>1</td>\n",
              "    </tr>\n",
              "    <tr>\n",
              "      <th>1</th>\n",
              "      <td>9000000.0</td>\n",
              "      <td>1</td>\n",
              "      <td>2.0</td>\n",
              "      <td>1.0</td>\n",
              "      <td>49.2</td>\n",
              "      <td>20.0</td>\n",
              "      <td>10.0</td>\n",
              "      <td>6.0</td>\n",
              "      <td>15</td>\n",
              "      <td>1</td>\n",
              "      <td>0</td>\n",
              "      <td>1</td>\n",
              "      <td>0</td>\n",
              "      <td>1</td>\n",
              "    </tr>\n",
              "    <tr>\n",
              "      <th>2</th>\n",
              "      <td>11090000.0</td>\n",
              "      <td>2</td>\n",
              "      <td>14.0</td>\n",
              "      <td>1.0</td>\n",
              "      <td>44.7</td>\n",
              "      <td>16.2</td>\n",
              "      <td>13.1</td>\n",
              "      <td>10.0</td>\n",
              "      <td>25</td>\n",
              "      <td>0</td>\n",
              "      <td>0</td>\n",
              "      <td>1</td>\n",
              "      <td>0</td>\n",
              "      <td>1</td>\n",
              "    </tr>\n",
              "    <tr>\n",
              "      <th>3</th>\n",
              "      <td>8300000.0</td>\n",
              "      <td>3</td>\n",
              "      <td>8.0</td>\n",
              "      <td>1.0</td>\n",
              "      <td>35.1</td>\n",
              "      <td>16.0</td>\n",
              "      <td>11.0</td>\n",
              "      <td>12.0</td>\n",
              "      <td>33</td>\n",
              "      <td>1</td>\n",
              "      <td>0</td>\n",
              "      <td>1</td>\n",
              "      <td>0</td>\n",
              "      <td>1</td>\n",
              "    </tr>\n",
              "    <tr>\n",
              "      <th>4</th>\n",
              "      <td>6450000.0</td>\n",
              "      <td>0</td>\n",
              "      <td>6.0</td>\n",
              "      <td>1.0</td>\n",
              "      <td>37.7</td>\n",
              "      <td>15.2</td>\n",
              "      <td>4.0</td>\n",
              "      <td>5.0</td>\n",
              "      <td>5</td>\n",
              "      <td>2</td>\n",
              "      <td>0</td>\n",
              "      <td>1</td>\n",
              "      <td>0</td>\n",
              "      <td>1</td>\n",
              "    </tr>\n",
              "  </tbody>\n",
              "</table>\n",
              "</div>\n",
              "    <div class=\"colab-df-buttons\">\n",
              "\n",
              "  <div class=\"colab-df-container\">\n",
              "    <button class=\"colab-df-convert\" onclick=\"convertToInteractive('df-80d872a9-4ad2-4a9a-a72b-1f7d19ec886d')\"\n",
              "            title=\"Convert this dataframe to an interactive table.\"\n",
              "            style=\"display:none;\">\n",
              "\n",
              "  <svg xmlns=\"http://www.w3.org/2000/svg\" height=\"24px\" viewBox=\"0 -960 960 960\">\n",
              "    <path d=\"M120-120v-720h720v720H120Zm60-500h600v-160H180v160Zm220 220h160v-160H400v160Zm0 220h160v-160H400v160ZM180-400h160v-160H180v160Zm440 0h160v-160H620v160ZM180-180h160v-160H180v160Zm440 0h160v-160H620v160Z\"/>\n",
              "  </svg>\n",
              "    </button>\n",
              "\n",
              "  <style>\n",
              "    .colab-df-container {\n",
              "      display:flex;\n",
              "      gap: 12px;\n",
              "    }\n",
              "\n",
              "    .colab-df-convert {\n",
              "      background-color: #E8F0FE;\n",
              "      border: none;\n",
              "      border-radius: 50%;\n",
              "      cursor: pointer;\n",
              "      display: none;\n",
              "      fill: #1967D2;\n",
              "      height: 32px;\n",
              "      padding: 0 0 0 0;\n",
              "      width: 32px;\n",
              "    }\n",
              "\n",
              "    .colab-df-convert:hover {\n",
              "      background-color: #E2EBFA;\n",
              "      box-shadow: 0px 1px 2px rgba(60, 64, 67, 0.3), 0px 1px 3px 1px rgba(60, 64, 67, 0.15);\n",
              "      fill: #174EA6;\n",
              "    }\n",
              "\n",
              "    .colab-df-buttons div {\n",
              "      margin-bottom: 4px;\n",
              "    }\n",
              "\n",
              "    [theme=dark] .colab-df-convert {\n",
              "      background-color: #3B4455;\n",
              "      fill: #D2E3FC;\n",
              "    }\n",
              "\n",
              "    [theme=dark] .colab-df-convert:hover {\n",
              "      background-color: #434B5C;\n",
              "      box-shadow: 0px 1px 3px 1px rgba(0, 0, 0, 0.15);\n",
              "      filter: drop-shadow(0px 1px 2px rgba(0, 0, 0, 0.3));\n",
              "      fill: #FFFFFF;\n",
              "    }\n",
              "  </style>\n",
              "\n",
              "    <script>\n",
              "      const buttonEl =\n",
              "        document.querySelector('#df-80d872a9-4ad2-4a9a-a72b-1f7d19ec886d button.colab-df-convert');\n",
              "      buttonEl.style.display =\n",
              "        google.colab.kernel.accessAllowed ? 'block' : 'none';\n",
              "\n",
              "      async function convertToInteractive(key) {\n",
              "        const element = document.querySelector('#df-80d872a9-4ad2-4a9a-a72b-1f7d19ec886d');\n",
              "        const dataTable =\n",
              "          await google.colab.kernel.invokeFunction('convertToInteractive',\n",
              "                                                    [key], {});\n",
              "        if (!dataTable) return;\n",
              "\n",
              "        const docLinkHtml = 'Like what you see? Visit the ' +\n",
              "          '<a target=\"_blank\" href=https://colab.research.google.com/notebooks/data_table.ipynb>data table notebook</a>'\n",
              "          + ' to learn more about interactive tables.';\n",
              "        element.innerHTML = '';\n",
              "        dataTable['output_type'] = 'display_data';\n",
              "        await google.colab.output.renderOutput(dataTable, element);\n",
              "        const docLink = document.createElement('div');\n",
              "        docLink.innerHTML = docLinkHtml;\n",
              "        element.appendChild(docLink);\n",
              "      }\n",
              "    </script>\n",
              "  </div>\n",
              "\n",
              "\n",
              "<div id=\"df-944d0db6-cea6-4115-9439-32f1ac1235fa\">\n",
              "  <button class=\"colab-df-quickchart\" onclick=\"quickchart('df-944d0db6-cea6-4115-9439-32f1ac1235fa')\"\n",
              "            title=\"Suggest charts\"\n",
              "            style=\"display:none;\">\n",
              "\n",
              "<svg xmlns=\"http://www.w3.org/2000/svg\" height=\"24px\"viewBox=\"0 0 24 24\"\n",
              "     width=\"24px\">\n",
              "    <g>\n",
              "        <path d=\"M19 3H5c-1.1 0-2 .9-2 2v14c0 1.1.9 2 2 2h14c1.1 0 2-.9 2-2V5c0-1.1-.9-2-2-2zM9 17H7v-7h2v7zm4 0h-2V7h2v10zm4 0h-2v-4h2v4z\"/>\n",
              "    </g>\n",
              "</svg>\n",
              "  </button>\n",
              "\n",
              "<style>\n",
              "  .colab-df-quickchart {\n",
              "      --bg-color: #E8F0FE;\n",
              "      --fill-color: #1967D2;\n",
              "      --hover-bg-color: #E2EBFA;\n",
              "      --hover-fill-color: #174EA6;\n",
              "      --disabled-fill-color: #AAA;\n",
              "      --disabled-bg-color: #DDD;\n",
              "  }\n",
              "\n",
              "  [theme=dark] .colab-df-quickchart {\n",
              "      --bg-color: #3B4455;\n",
              "      --fill-color: #D2E3FC;\n",
              "      --hover-bg-color: #434B5C;\n",
              "      --hover-fill-color: #FFFFFF;\n",
              "      --disabled-bg-color: #3B4455;\n",
              "      --disabled-fill-color: #666;\n",
              "  }\n",
              "\n",
              "  .colab-df-quickchart {\n",
              "    background-color: var(--bg-color);\n",
              "    border: none;\n",
              "    border-radius: 50%;\n",
              "    cursor: pointer;\n",
              "    display: none;\n",
              "    fill: var(--fill-color);\n",
              "    height: 32px;\n",
              "    padding: 0;\n",
              "    width: 32px;\n",
              "  }\n",
              "\n",
              "  .colab-df-quickchart:hover {\n",
              "    background-color: var(--hover-bg-color);\n",
              "    box-shadow: 0 1px 2px rgba(60, 64, 67, 0.3), 0 1px 3px 1px rgba(60, 64, 67, 0.15);\n",
              "    fill: var(--button-hover-fill-color);\n",
              "  }\n",
              "\n",
              "  .colab-df-quickchart-complete:disabled,\n",
              "  .colab-df-quickchart-complete:disabled:hover {\n",
              "    background-color: var(--disabled-bg-color);\n",
              "    fill: var(--disabled-fill-color);\n",
              "    box-shadow: none;\n",
              "  }\n",
              "\n",
              "  .colab-df-spinner {\n",
              "    border: 2px solid var(--fill-color);\n",
              "    border-color: transparent;\n",
              "    border-bottom-color: var(--fill-color);\n",
              "    animation:\n",
              "      spin 1s steps(1) infinite;\n",
              "  }\n",
              "\n",
              "  @keyframes spin {\n",
              "    0% {\n",
              "      border-color: transparent;\n",
              "      border-bottom-color: var(--fill-color);\n",
              "      border-left-color: var(--fill-color);\n",
              "    }\n",
              "    20% {\n",
              "      border-color: transparent;\n",
              "      border-left-color: var(--fill-color);\n",
              "      border-top-color: var(--fill-color);\n",
              "    }\n",
              "    30% {\n",
              "      border-color: transparent;\n",
              "      border-left-color: var(--fill-color);\n",
              "      border-top-color: var(--fill-color);\n",
              "      border-right-color: var(--fill-color);\n",
              "    }\n",
              "    40% {\n",
              "      border-color: transparent;\n",
              "      border-right-color: var(--fill-color);\n",
              "      border-top-color: var(--fill-color);\n",
              "    }\n",
              "    60% {\n",
              "      border-color: transparent;\n",
              "      border-right-color: var(--fill-color);\n",
              "    }\n",
              "    80% {\n",
              "      border-color: transparent;\n",
              "      border-right-color: var(--fill-color);\n",
              "      border-bottom-color: var(--fill-color);\n",
              "    }\n",
              "    90% {\n",
              "      border-color: transparent;\n",
              "      border-bottom-color: var(--fill-color);\n",
              "    }\n",
              "  }\n",
              "</style>\n",
              "\n",
              "  <script>\n",
              "    async function quickchart(key) {\n",
              "      const quickchartButtonEl =\n",
              "        document.querySelector('#' + key + ' button');\n",
              "      quickchartButtonEl.disabled = true;  // To prevent multiple clicks.\n",
              "      quickchartButtonEl.classList.add('colab-df-spinner');\n",
              "      try {\n",
              "        const charts = await google.colab.kernel.invokeFunction(\n",
              "            'suggestCharts', [key], {});\n",
              "      } catch (error) {\n",
              "        console.error('Error during call to suggestCharts:', error);\n",
              "      }\n",
              "      quickchartButtonEl.classList.remove('colab-df-spinner');\n",
              "      quickchartButtonEl.classList.add('colab-df-quickchart-complete');\n",
              "    }\n",
              "    (() => {\n",
              "      let quickchartButtonEl =\n",
              "        document.querySelector('#df-944d0db6-cea6-4115-9439-32f1ac1235fa button');\n",
              "      quickchartButtonEl.style.display =\n",
              "        google.colab.kernel.accessAllowed ? 'block' : 'none';\n",
              "    })();\n",
              "  </script>\n",
              "</div>\n",
              "    </div>\n",
              "  </div>\n"
            ],
            "application/vnd.google.colaboratory.intrinsic+json": {
              "type": "dataframe",
              "variable_name": "data",
              "summary": "{\n  \"name\": \"data\",\n  \"rows\": 22676,\n  \"fields\": [\n    {\n      \"column\": \"Price\",\n      \"properties\": {\n        \"dtype\": \"number\",\n        \"std\": 82825614.1756103,\n        \"min\": 1150000.0,\n        \"max\": 2455020000.0,\n        \"num_unique_values\": 9979,\n        \"samples\": [\n          10135683.0,\n          2856844.0,\n          97190760.0\n        ],\n        \"semantic_type\": \"\",\n        \"description\": \"\"\n      }\n    },\n    {\n      \"column\": \"Metro station\",\n      \"properties\": {\n        \"dtype\": \"number\",\n        \"std\": 143,\n        \"min\": 0,\n        \"max\": 546,\n        \"num_unique_values\": 547,\n        \"samples\": [\n          176,\n          77,\n          361\n        ],\n        \"semantic_type\": \"\",\n        \"description\": \"\"\n      }\n    },\n    {\n      \"column\": \"Minutes to metro\",\n      \"properties\": {\n        \"dtype\": \"number\",\n        \"std\": 6.204456965622073,\n        \"min\": 0.0,\n        \"max\": 60.0,\n        \"num_unique_values\": 56,\n        \"samples\": [\n          6.0,\n          27.0,\n          28.0\n        ],\n        \"semantic_type\": \"\",\n        \"description\": \"\"\n      }\n    },\n    {\n      \"column\": \"Number of rooms\",\n      \"properties\": {\n        \"dtype\": \"number\",\n        \"std\": 1.5235862577058266,\n        \"min\": 0.0,\n        \"max\": 12.0,\n        \"num_unique_values\": 12,\n        \"samples\": [\n          12.0,\n          9.0,\n          1.0\n        ],\n        \"semantic_type\": \"\",\n        \"description\": \"\"\n      }\n    },\n    {\n      \"column\": \"Area\",\n      \"properties\": {\n        \"dtype\": \"number\",\n        \"std\": 68.36860845335453,\n        \"min\": 6.0,\n        \"max\": 1117.0,\n        \"num_unique_values\": 3017,\n        \"samples\": [\n          126.2,\n          116.85,\n          183.5\n        ],\n        \"semantic_type\": \"\",\n        \"description\": \"\"\n      }\n    },\n    {\n      \"column\": \"Living area\",\n      \"properties\": {\n        \"dtype\": \"number\",\n        \"std\": 38.12427814350796,\n        \"min\": 2.0,\n        \"max\": 566.8,\n        \"num_unique_values\": 1302,\n        \"samples\": [\n          28.5,\n          44.0,\n          145.5\n        ],\n        \"semantic_type\": \"\",\n        \"description\": \"\"\n      }\n    },\n    {\n      \"column\": \"Kitchen area\",\n      \"properties\": {\n        \"dtype\": \"number\",\n        \"std\": 7.728074411063643,\n        \"min\": 1.0,\n        \"max\": 122.0,\n        \"num_unique_values\": 481,\n        \"samples\": [\n          23.0,\n          32.7,\n          33.2\n        ],\n        \"semantic_type\": \"\",\n        \"description\": \"\"\n      }\n    },\n    {\n      \"column\": \"Floor\",\n      \"properties\": {\n        \"dtype\": \"number\",\n        \"std\": 7.549996177433723,\n        \"min\": 1.0,\n        \"max\": 92.0,\n        \"num_unique_values\": 72,\n        \"samples\": [\n          5.0,\n          43.0,\n          20.0\n        ],\n        \"semantic_type\": \"\",\n        \"description\": \"\"\n      }\n    },\n    {\n      \"column\": \"Number of floors\",\n      \"properties\": {\n        \"dtype\": \"number\",\n        \"std\": 9,\n        \"min\": 1,\n        \"max\": 97,\n        \"num_unique_values\": 83,\n        \"samples\": [\n          27,\n          25,\n          32\n        ],\n        \"semantic_type\": \"\",\n        \"description\": \"\"\n      }\n    },\n    {\n      \"column\": \"Renovation\",\n      \"properties\": {\n        \"dtype\": \"number\",\n        \"std\": 1,\n        \"min\": 0,\n        \"max\": 3,\n        \"num_unique_values\": 4,\n        \"samples\": [\n          1,\n          3,\n          0\n        ],\n        \"semantic_type\": \"\",\n        \"description\": \"\"\n      }\n    },\n    {\n      \"column\": \"Region_Moscow\",\n      \"properties\": {\n        \"dtype\": \"uint8\",\n        \"num_unique_values\": 2,\n        \"samples\": [\n          1,\n          0\n        ],\n        \"semantic_type\": \"\",\n        \"description\": \"\"\n      }\n    },\n    {\n      \"column\": \"Region_Moscow region\",\n      \"properties\": {\n        \"dtype\": \"uint8\",\n        \"num_unique_values\": 2,\n        \"samples\": [\n          0,\n          1\n        ],\n        \"semantic_type\": \"\",\n        \"description\": \"\"\n      }\n    },\n    {\n      \"column\": \"Apartment type_New building\",\n      \"properties\": {\n        \"dtype\": \"uint8\",\n        \"num_unique_values\": 2,\n        \"samples\": [\n          1,\n          0\n        ],\n        \"semantic_type\": \"\",\n        \"description\": \"\"\n      }\n    },\n    {\n      \"column\": \"Apartment type_Secondary\",\n      \"properties\": {\n        \"dtype\": \"uint8\",\n        \"num_unique_values\": 2,\n        \"samples\": [\n          0,\n          1\n        ],\n        \"semantic_type\": \"\",\n        \"description\": \"\"\n      }\n    }\n  ]\n}"
            }
          },
          "metadata": {},
          "execution_count": 48
        }
      ],
      "source": [
        "data.head()"
      ]
    },
    {
      "cell_type": "markdown",
      "metadata": {
        "id": "isorNy0W8TBv"
      },
      "source": [
        "- Нормализовать данные."
      ]
    },
    {
      "cell_type": "code",
      "execution_count": 49,
      "metadata": {
        "id": "gLSVyWRv8TBv"
      },
      "outputs": [],
      "source": [
        "scaler = StandardScaler()\n",
        "X = data.drop('Renovation', axis=1)\n",
        "y = data['Renovation']\n",
        "all_cols = X.columns\n",
        "X = pd.DataFrame(scaler.fit_transform(X), columns=all_cols)"
      ]
    },
    {
      "cell_type": "markdown",
      "metadata": {
        "id": "W0lTH3Pe8TBv"
      },
      "source": [
        "- Выбрать какое-нибудь значение гиперпараметра $k$ алгоритма $kNN$."
      ]
    },
    {
      "cell_type": "code",
      "execution_count": 50,
      "metadata": {
        "id": "PtqiJWOU8TBw"
      },
      "outputs": [],
      "source": [
        "k = 5"
      ]
    },
    {
      "cell_type": "markdown",
      "metadata": {
        "id": "Qw68FCjQ8TBw"
      },
      "source": [
        "   - Разбить выборку на обучающую и тестовую.\n",
        "     > Разбиение использовать одно и то же для данных без фильтрации признаков и с применением фильтрации."
      ]
    },
    {
      "cell_type": "code",
      "execution_count": 51,
      "metadata": {
        "colab": {
          "base_uri": "https://localhost:8080/"
        },
        "id": "NBol6rgb8TBw",
        "outputId": "de8c2374-9027-4c1a-8dbf-fdee60607724"
      },
      "outputs": [
        {
          "output_type": "stream",
          "name": "stdout",
          "text": [
            "(15873,) (6803,)\n"
          ]
        }
      ],
      "source": [
        "X_train, X_test, y_train, y_test = train_test_split(X, y, test_size = 0.3, random_state = 42)\n",
        "print(y_train.shape, y_test.shape)"
      ]
    },
    {
      "cell_type": "markdown",
      "metadata": {
        "id": "PYRlHIgC8TBw"
      },
      "source": [
        "   - Осуществить многоклассовую классификацию."
      ]
    },
    {
      "cell_type": "code",
      "execution_count": 52,
      "metadata": {
        "id": "IDbM20cQ8TBx"
      },
      "outputs": [],
      "source": [
        "model = KNeighborsClassifier(n_neighbors=k)\n",
        "model.fit(X_train, y_train)\n",
        "preds = model.predict(X_test)"
      ]
    },
    {
      "cell_type": "markdown",
      "metadata": {
        "id": "6qT6fs2g8TBx"
      },
      "source": [
        "   - Посчитать метрики: $accuracy$, $precision$, $recall$, $\\textit{f-measure}$, а также составить `classification_report`."
      ]
    },
    {
      "cell_type": "code",
      "execution_count": 53,
      "metadata": {
        "colab": {
          "base_uri": "https://localhost:8080/"
        },
        "id": "K7UNWMnl8TBx",
        "outputId": "e2cc5e38-861c-421e-ab69-181e1ebf427c"
      },
      "outputs": [
        {
          "output_type": "stream",
          "name": "stdout",
          "text": [
            "Accuracy:\t0.7029251800676172\n",
            "Precision (micro):\t0.7029251800676172\n",
            "Recall (micro):\t0.7029251800676172\n",
            "F1-measure (micro):\t0.7029251800676172\n",
            "              precision    recall  f1-score   support\n",
            "\n",
            "           0       0.83      0.91      0.87      3825\n",
            "           1       0.44      0.43      0.43      1087\n",
            "           2       0.52      0.45      0.48       989\n",
            "           3       0.59      0.43      0.50       902\n",
            "\n",
            "    accuracy                           0.70      6803\n",
            "   macro avg       0.59      0.55      0.57      6803\n",
            "weighted avg       0.69      0.70      0.69      6803\n",
            "\n"
          ]
        }
      ],
      "source": [
        "print(f'Accuracy:\\t{accuracy_score(y_test, preds)}')\n",
        "print(f'Precision (micro):\\t{precision_score(y_test, preds, average=\"micro\")}')\n",
        "print(f'Recall (micro):\\t{recall_score(y_test, preds, average=\"micro\")}')\n",
        "print(f'F1-measure (micro):\\t{f1_score(y_test, preds, average=\"micro\")}')\n",
        "print(classification_report(y_test, preds))"
      ]
    },
    {
      "cell_type": "markdown",
      "metadata": {
        "id": "4zAfrfLW8TBx"
      },
      "source": [
        "   - Построить `сorrelation heatmap` и/или воспользоваться методом `corr()`. Выбрать наиболее важные признаки эвристически или на основании каких-нибудь вычислений"
      ]
    },
    {
      "cell_type": "code",
      "execution_count": 54,
      "metadata": {
        "colab": {
          "base_uri": "https://localhost:8080/",
          "height": 646
        },
        "id": "LmsR_GO-8TBy",
        "outputId": "854c4379-fdb0-4b25-d85c-a3995d4d3903"
      },
      "outputs": [
        {
          "output_type": "execute_result",
          "data": {
            "text/plain": [
              "<Axes: >"
            ]
          },
          "metadata": {},
          "execution_count": 54
        },
        {
          "output_type": "display_data",
          "data": {
            "text/plain": [
              "<Figure size 640x480 with 2 Axes>"
            ],
            "image/png": "[encoded data removed]"
          },
          "metadata": {}
        }
      ],
      "source": [
        "sns.heatmap(X.corr())"
      ]
    },
    {
      "cell_type": "code",
      "execution_count": 55,
      "metadata": {
        "colab": {
          "base_uri": "https://localhost:8080/"
        },
        "id": "OpU5KAwc8TBy",
        "outputId": "954fa7a9-2930-47f4-c91b-9d5545000551"
      },
      "outputs": [
        {
          "output_type": "stream",
          "name": "stdout",
          "text": [
            "Index(['Area', 'Price', 'Living area', 'Kitchen area', 'Region_Moscow',\n",
            "       'Region_Moscow region', 'Apartment type_New building',\n",
            "       'Apartment type_Secondary'],\n",
            "      dtype='object')\n"
          ]
        }
      ],
      "source": [
        "matrix = X.corr()\n",
        "np.fill_diagonal(matrix.values, 0)\n",
        "threshold = 0.7\n",
        "filtered_corr = matrix.abs() > threshold\n",
        "feature_importance = filtered_corr.sum(axis=1)\n",
        "sorted_features = feature_importance.sort_values(ascending=False)\n",
        "filter_threshold = 0\n",
        "selected_features = sorted_features[sorted_features > filter_threshold].index\n",
        "print(selected_features)"
      ]
    },
    {
      "cell_type": "markdown",
      "metadata": {
        "id": "ziWR1N5C8TBy"
      },
      "source": [
        "   - Осуществить многоклассовую классификацию с отфильтрованными признаками."
      ]
    },
    {
      "cell_type": "code",
      "execution_count": 56,
      "metadata": {
        "id": "kq78dS9O8TBy"
      },
      "outputs": [],
      "source": [
        "X_f = X[selected_features]\n",
        "X_train_f = X_train[selected_features]\n",
        "X_test_f = X_test[selected_features]"
      ]
    },
    {
      "cell_type": "code",
      "execution_count": 57,
      "metadata": {
        "id": "WX_RZ8uV8TBy"
      },
      "outputs": [],
      "source": [
        "model_f = KNeighborsClassifier(n_neighbors=k)\n",
        "model_f.fit(X_train_f, y_train)\n",
        "preds_f = model_f.predict(X_test_f)"
      ]
    },
    {
      "cell_type": "markdown",
      "metadata": {
        "id": "izew6p0w8TBy"
      },
      "source": [
        "   - Посчитать метрики: $accuracy$, $precision$, $recall$, $\\textit{f-measure}$, а также составить `classification_report`."
      ]
    },
    {
      "cell_type": "code",
      "execution_count": 58,
      "metadata": {
        "colab": {
          "base_uri": "https://localhost:8080/"
        },
        "id": "v1Dwyfn78TBy",
        "outputId": "ac97ab87-6dd0-478f-acdb-6a60688d2069"
      },
      "outputs": [
        {
          "output_type": "stream",
          "name": "stdout",
          "text": [
            "Accuracy:\t0.698074378950463\n",
            "Precision (micro):\t0.698074378950463\n",
            "Recall (micro):\t0.698074378950463\n",
            "F1-measure (micro):\t0.698074378950463\n",
            "              precision    recall  f1-score   support\n",
            "\n",
            "           0       0.84      0.91      0.87      3825\n",
            "           1       0.43      0.46      0.45      1087\n",
            "           2       0.47      0.40      0.43       989\n",
            "           3       0.56      0.39      0.46       902\n",
            "\n",
            "    accuracy                           0.70      6803\n",
            "   macro avg       0.57      0.54      0.55      6803\n",
            "weighted avg       0.68      0.70      0.69      6803\n",
            "\n"
          ]
        }
      ],
      "source": [
        "print(f'Accuracy:\\t{accuracy_score(y_test, preds_f)}')\n",
        "print(f'Precision (micro):\\t{precision_score(y_test, preds_f, average=\"micro\")}')\n",
        "print(f'Recall (micro):\\t{recall_score(y_test, preds_f, average=\"micro\")}')\n",
        "print(f'F1-measure (micro):\\t{f1_score(y_test, preds_f, average=\"micro\")}')\n",
        "print(classification_report(y_test, preds_f))"
      ]
    },
    {
      "cell_type": "markdown",
      "metadata": {
        "id": "vmzZ_rPM8TBy"
      },
      "source": [
        "   - Сравнить результаты \"до\" и \"после\" фильтрации, сделать выводы."
      ]
    },
    {
      "cell_type": "markdown",
      "metadata": {
        "id": "Dx8thdwT8TBy"
      },
      "source": [
        "Качество осталось примерно на том же уровне, что и было ранее, однако теперь оно обеспечивается меньшим количеством признаков"
      ]
    },
    {
      "cell_type": "markdown",
      "metadata": {
        "id": "kySvLWyR8TBz"
      },
      "source": [
        "   - Перебрать значения гиперпараметра $k$ в каком-нибудь диапазоне с использованием кросс-валидации на данных\n",
        "      > данных - исходных данных до разбиения\n",
        "\n",
        "     с отфильтрованными признаками. Построить график *train/test accuracy* в зависимости от значения $k$."
      ]
    },
    {
      "cell_type": "code",
      "execution_count": 59,
      "metadata": {
        "colab": {
          "base_uri": "https://localhost:8080/"
        },
        "id": "rGZrAlE58TBz",
        "outputId": "441c2d1a-afca-420b-dffc-6ceb658f691f"
      },
      "outputs": [
        {
          "output_type": "stream",
          "name": "stdout",
          "text": [
            "Neighbors: 1, folds count: 10 avg score: 0.6430260022452348\n",
            "Neighbors: 2, folds count: 10 avg score: 0.6256056532302672\n",
            "Neighbors: 3, folds count: 10 avg score: 0.6256080066034484\n",
            "Neighbors: 4, folds count: 10 avg score: 0.6167889837239934\n",
            "Neighbors: 5, folds count: 10 avg score: 0.6158629605512418\n",
            "Neighbors: 6, folds count: 10 avg score: 0.6147162454323165\n",
            "Neighbors: 7, folds count: 10 avg score: 0.6153344046043648\n",
            "Neighbors: 8, folds count: 10 avg score: 0.6132176912981206\n",
            "Neighbors: 9, folds count: 10 avg score: 0.6133940581411542\n",
            "Neighbors: 10, folds count: 10 avg score: 0.6094693318520696\n",
            "Neighbors: 11, folds count: 10 avg score: 0.6078817385242911\n",
            "Neighbors: 12, folds count: 10 avg score: 0.6087193643325095\n",
            "Neighbors: 13, folds count: 10 avg score: 0.6065590649990004\n",
            "Neighbors: 14, folds count: 10 avg score: 0.6039569538871113\n",
            "Neighbors: 15, folds count: 10 avg score: 0.6040892873674817\n",
            "Neighbors: 16, folds count: 10 avg score: 0.604574451780745\n",
            "Neighbors: 17, folds count: 10 avg score: 0.6026340275200737\n",
            "Neighbors: 18, folds count: 10 avg score: 0.6021046935985914\n",
            "Neighbors: 19, folds count: 10 avg score: 0.6017520766087154\n",
            "Neighbors: 20, folds count: 10 avg score: 0.6017080626954175\n"
          ]
        }
      ],
      "source": [
        "train_score = []\n",
        "test_score = []\n",
        "crossval_score = []\n",
        "\n",
        "for k in range(1, 21):\n",
        "    model = KNeighborsClassifier(n_neighbors=k)\n",
        "    scores = cross_val_score(model, X_f, y, cv = 10)\n",
        "    print(f\"Neighbors: {k}, folds count: 10 avg score: {scores.mean()}\")\n",
        "    crossval_score.append(scores.mean())\n",
        "    model.fit(X_train_f, y_train)\n",
        "    pred_train = model.predict(X_train_f)\n",
        "    pred_test = model.predict(X_test_f)\n",
        "    train_score.append(accuracy_score(y_train, pred_train))\n",
        "    test_score.append(accuracy_score(y_test, pred_test))"
      ]
    },
    {
      "cell_type": "code",
      "execution_count": 60,
      "metadata": {
        "colab": {
          "base_uri": "https://localhost:8080/",
          "height": 430
        },
        "id": "65Unx59s8TB0",
        "outputId": "b2262ee9-c240-4524-e134-719e06ac1fd5"
      },
      "outputs": [
        {
          "output_type": "display_data",
          "data": {
            "text/plain": [
              "<Figure size 640x480 with 1 Axes>"
            ],
            "image/png": "[encoded data removed]"
          },
          "metadata": {}
        }
      ],
      "source": [
        "plt.plot(range(1, 21), train_score, label=\"train_score\")\n",
        "plt.plot(range(1, 21), test_score, label=\"test_score\")\n",
        "plt.legend()\n",
        "plt.grid()"
      ]
    },
    {
      "cell_type": "markdown",
      "metadata": {
        "id": "XsS7uGDS8TB1"
      },
      "source": [
        "   - Для лучшего классификатора привести метрики, `classification_report`, построить `confusion matrix`."
      ]
    },
    {
      "cell_type": "markdown",
      "metadata": {
        "id": "6JP8Jk8s8TB1"
      },
      "source": [
        "Будем смотреть лучший результат по тестовой выборке (исключая тривиальный случай $k=1$)"
      ]
    },
    {
      "cell_type": "code",
      "execution_count": 61,
      "metadata": {
        "colab": {
          "base_uri": "https://localhost:8080/"
        },
        "id": "tTW9WJ9N8TB1",
        "outputId": "55e1b636-f791-4d1c-f881-bbd936247a14"
      },
      "outputs": [
        {
          "output_type": "execute_result",
          "data": {
            "text/plain": [
              "16"
            ]
          },
          "metadata": {},
          "execution_count": 61
        }
      ],
      "source": [
        "best = test_score.index(max(test_score[1:]))\n",
        "best"
      ]
    },
    {
      "cell_type": "markdown",
      "metadata": {
        "id": "EXoQPKVE8TB2"
      },
      "source": [
        "Т.е. лучший результат на тестовой выборке достигается при $k=15$"
      ]
    },
    {
      "cell_type": "code",
      "execution_count": 62,
      "metadata": {
        "id": "0dfAPzf58TB2"
      },
      "outputs": [],
      "source": [
        "model_f = KNeighborsClassifier(n_neighbors=15)\n",
        "model_f.fit(X_train_f, y_train)\n",
        "preds_f = model_f.predict(X_test_f)"
      ]
    },
    {
      "cell_type": "code",
      "execution_count": 63,
      "metadata": {
        "colab": {
          "base_uri": "https://localhost:8080/"
        },
        "id": "qNFxfLap8TB2",
        "outputId": "966fbb65-1841-4e1e-aedc-1553b4b2a219"
      },
      "outputs": [
        {
          "output_type": "stream",
          "name": "stdout",
          "text": [
            "              precision    recall  f1-score   support\n",
            "\n",
            "           0       0.83      0.93      0.87      3825\n",
            "           1       0.43      0.40      0.41      1087\n",
            "           2       0.47      0.36      0.41       989\n",
            "           3       0.57      0.47      0.52       902\n",
            "\n",
            "    accuracy                           0.70      6803\n",
            "   macro avg       0.58      0.54      0.55      6803\n",
            "weighted avg       0.68      0.70      0.69      6803\n",
            "\n"
          ]
        }
      ],
      "source": [
        "print(classification_report(y_test, preds_f))"
      ]
    },
    {
      "cell_type": "code",
      "execution_count": 64,
      "metadata": {
        "id": "vZCFrsuk8TB2"
      },
      "outputs": [],
      "source": [
        "from sklearn.metrics import confusion_matrix"
      ]
    },
    {
      "cell_type": "code",
      "execution_count": 65,
      "metadata": {
        "colab": {
          "base_uri": "https://localhost:8080/",
          "height": 447
        },
        "id": "UggqmuNx8TB2",
        "outputId": "a3c736de-cf11-487f-a0a3-fea5c8ec1e1c"
      },
      "outputs": [
        {
          "output_type": "execute_result",
          "data": {
            "text/plain": [
              "<Axes: >"
            ]
          },
          "metadata": {},
          "execution_count": 65
        },
        {
          "output_type": "display_data",
          "data": {
            "text/plain": [
              "<Figure size 640x480 with 2 Axes>"
            ],
            "image/png": "[encoded data removed]"
          },
          "metadata": {}
        }
      ],
      "source": [
        "sns.heatmap(data=confusion_matrix(y_test, preds_f, normalize='true'), square=True, annot=True, fmt='.2f')"
      ]
    },
    {
      "cell_type": "code",
      "execution_count": null,
      "metadata": {
        "id": "hVTJ4WRb8TB2"
      },
      "outputs": [],
      "source": []
    }
  ],
  "metadata": {
    "kernelspec": {
      "display_name": "Python 3",
      "language": "python",
      "name": "python3"
    },
    "language_info": {
      "codemirror_mode": {
        "name": "ipython",
        "version": 3
      },
      "file_extension": ".py",
      "mimetype": "text/x-python",
      "name": "python",
      "nbconvert_exporter": "python",
      "pygments_lexer": "ipython3",
      "version": "3.8.6"
    },
    "colab": {
      "provenance": []
    }
  },
  "nbformat": 4,
  "nbformat_minor": 0
}